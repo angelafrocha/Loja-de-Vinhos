{
  "cells": [
    {
      "cell_type": "markdown",
      "metadata": {
        "id": "view-in-github",
        "colab_type": "text"
      },
      "source": [
        "<a href=\"https://colab.research.google.com/github/angelafrocha/Loja-de-Vinhos/blob/main/Projeto_Pandas_Angela_e_AdrianoL.ipynb\" target=\"_parent\"><img src=\"https://colab.research.google.com/assets/colab-badge.svg\" alt=\"Open In Colab\"/></a>"
      ]
    },
    {
      "cell_type": "markdown",
      "metadata": {
        "id": "Bz2_xIkr2_5u"
      },
      "source": [
        "# Instalações"
      ]
    },
    {
      "cell_type": "code",
      "execution_count": null,
      "metadata": {
        "colab": {
          "base_uri": "https://localhost:8080/"
        },
        "id": "A0Oe4S_P3Cqo",
        "outputId": "2ed61d3e-a752-4d5d-ab26-b406d810ae0e"
      },
      "outputs": [
        {
          "output_type": "stream",
          "name": "stdout",
          "text": [
            "Looking in indexes: https://pypi.org/simple, https://us-python.pkg.dev/colab-wheels/public/simple/\n",
            "Requirement already satisfied: pymongo in /usr/local/lib/python3.9/dist-packages (4.3.3)\n",
            "Requirement already satisfied: dnspython<3.0.0,>=1.16.0 in /usr/local/lib/python3.9/dist-packages (from pymongo) (2.3.0)\n"
          ]
        }
      ],
      "source": [
        "pip install pymongo"
      ]
    },
    {
      "cell_type": "code",
      "execution_count": null,
      "metadata": {
        "colab": {
          "base_uri": "https://localhost:8080/"
        },
        "id": "R9xHZQEb3FNG",
        "outputId": "5bcfc1a6-bc31-4dfd-dccc-9ac970e9f1b1"
      },
      "outputs": [
        {
          "output_type": "stream",
          "name": "stdout",
          "text": [
            "Looking in indexes: https://pypi.org/simple, https://us-python.pkg.dev/colab-wheels/public/simple/\n",
            "Collecting gcsfs\n",
            "  Downloading gcsfs-2023.3.0-py2.py3-none-any.whl (26 kB)\n",
            "Requirement already satisfied: fsspec==2023.3.0 in /usr/local/lib/python3.9/dist-packages (from gcsfs) (2023.3.0)\n",
            "Collecting aiohttp!=4.0.0a0,!=4.0.0a1\n",
            "  Downloading aiohttp-3.8.4-cp39-cp39-manylinux_2_17_x86_64.manylinux2014_x86_64.whl (1.0 MB)\n",
            "\u001b[2K     \u001b[90m━━━━━━━━━━━━━━━━━━━━━━━━━━━━━━━━━━━━━━━━\u001b[0m \u001b[32m1.0/1.0 MB\u001b[0m \u001b[31m14.0 MB/s\u001b[0m eta \u001b[36m0:00:00\u001b[0m\n",
            "\u001b[?25hRequirement already satisfied: google-auth>=1.2 in /usr/local/lib/python3.9/dist-packages (from gcsfs) (2.16.2)\n",
            "Requirement already satisfied: google-cloud-storage in /usr/local/lib/python3.9/dist-packages (from gcsfs) (2.7.0)\n",
            "Requirement already satisfied: requests in /usr/local/lib/python3.9/dist-packages (from gcsfs) (2.25.1)\n",
            "Requirement already satisfied: decorator>4.1.2 in /usr/local/lib/python3.9/dist-packages (from gcsfs) (4.4.2)\n",
            "Requirement already satisfied: google-auth-oauthlib in /usr/local/lib/python3.9/dist-packages (from gcsfs) (0.4.6)\n",
            "Collecting charset-normalizer<4.0,>=2.0\n",
            "  Downloading charset_normalizer-3.1.0-cp39-cp39-manylinux_2_17_x86_64.manylinux2014_x86_64.whl (199 kB)\n",
            "\u001b[2K     \u001b[90m━━━━━━━━━━━━━━━━━━━━━━━━━━━━━━━━━━━━━━\u001b[0m \u001b[32m199.2/199.2 KB\u001b[0m \u001b[31m14.7 MB/s\u001b[0m eta \u001b[36m0:00:00\u001b[0m\n",
            "\u001b[?25hCollecting multidict<7.0,>=4.5\n",
            "  Downloading multidict-6.0.4-cp39-cp39-manylinux_2_17_x86_64.manylinux2014_x86_64.whl (114 kB)\n",
            "\u001b[2K     \u001b[90m━━━━━━━━━━━━━━━━━━━━━━━━━━━━━━━━━━━━━━━\u001b[0m \u001b[32m114.2/114.2 KB\u001b[0m \u001b[31m3.1 MB/s\u001b[0m eta \u001b[36m0:00:00\u001b[0m\n",
            "\u001b[?25hCollecting async-timeout<5.0,>=4.0.0a3\n",
            "  Downloading async_timeout-4.0.2-py3-none-any.whl (5.8 kB)\n",
            "Collecting frozenlist>=1.1.1\n",
            "  Downloading frozenlist-1.3.3-cp39-cp39-manylinux_2_5_x86_64.manylinux1_x86_64.manylinux_2_17_x86_64.manylinux2014_x86_64.whl (158 kB)\n",
            "\u001b[2K     \u001b[90m━━━━━━━━━━━━━━━━━━━━━━━━━━━━━━━━━━━━━━\u001b[0m \u001b[32m158.8/158.8 KB\u001b[0m \u001b[31m10.2 MB/s\u001b[0m eta \u001b[36m0:00:00\u001b[0m\n",
            "\u001b[?25hCollecting aiosignal>=1.1.2\n",
            "  Downloading aiosignal-1.3.1-py3-none-any.whl (7.6 kB)\n",
            "Requirement already satisfied: attrs>=17.3.0 in /usr/local/lib/python3.9/dist-packages (from aiohttp!=4.0.0a0,!=4.0.0a1->gcsfs) (22.2.0)\n",
            "Collecting yarl<2.0,>=1.0\n",
            "  Downloading yarl-1.8.2-cp39-cp39-manylinux_2_17_x86_64.manylinux2014_x86_64.whl (264 kB)\n",
            "\u001b[2K     \u001b[90m━━━━━━━━━━━━━━━━━━━━━━━━━━━━━━━━━━━━━━━\u001b[0m \u001b[32m264.6/264.6 KB\u001b[0m \u001b[31m8.8 MB/s\u001b[0m eta \u001b[36m0:00:00\u001b[0m\n",
            "\u001b[?25hRequirement already satisfied: rsa<5,>=3.1.4 in /usr/local/lib/python3.9/dist-packages (from google-auth>=1.2->gcsfs) (4.9)\n",
            "Requirement already satisfied: cachetools<6.0,>=2.0.0 in /usr/local/lib/python3.9/dist-packages (from google-auth>=1.2->gcsfs) (5.3.0)\n",
            "Requirement already satisfied: six>=1.9.0 in /usr/local/lib/python3.9/dist-packages (from google-auth>=1.2->gcsfs) (1.15.0)\n",
            "Requirement already satisfied: pyasn1-modules>=0.2.1 in /usr/local/lib/python3.9/dist-packages (from google-auth>=1.2->gcsfs) (0.2.8)\n",
            "Requirement already satisfied: requests-oauthlib>=0.7.0 in /usr/local/lib/python3.9/dist-packages (from google-auth-oauthlib->gcsfs) (1.3.1)\n",
            "Requirement already satisfied: google-cloud-core<3.0dev,>=2.3.0 in /usr/local/lib/python3.9/dist-packages (from google-cloud-storage->gcsfs) (2.3.2)\n",
            "Requirement already satisfied: google-api-core!=2.0.*,!=2.1.*,!=2.2.*,!=2.3.0,<3.0.0dev,>=1.31.5 in /usr/local/lib/python3.9/dist-packages (from google-cloud-storage->gcsfs) (2.11.0)\n",
            "Requirement already satisfied: google-resumable-media>=2.3.2 in /usr/local/lib/python3.9/dist-packages (from google-cloud-storage->gcsfs) (2.4.1)\n",
            "Requirement already satisfied: idna<3,>=2.5 in /usr/local/lib/python3.9/dist-packages (from requests->gcsfs) (2.10)\n",
            "Requirement already satisfied: certifi>=2017.4.17 in /usr/local/lib/python3.9/dist-packages (from requests->gcsfs) (2022.12.7)\n",
            "Requirement already satisfied: urllib3<1.27,>=1.21.1 in /usr/local/lib/python3.9/dist-packages (from requests->gcsfs) (1.26.14)\n",
            "Requirement already satisfied: chardet<5,>=3.0.2 in /usr/local/lib/python3.9/dist-packages (from requests->gcsfs) (4.0.0)\n",
            "Requirement already satisfied: googleapis-common-protos<2.0dev,>=1.56.2 in /usr/local/lib/python3.9/dist-packages (from google-api-core!=2.0.*,!=2.1.*,!=2.2.*,!=2.3.0,<3.0.0dev,>=1.31.5->google-cloud-storage->gcsfs) (1.58.0)\n",
            "Requirement already satisfied: protobuf!=3.20.0,!=3.20.1,!=4.21.0,!=4.21.1,!=4.21.2,!=4.21.3,!=4.21.4,!=4.21.5,<5.0.0dev,>=3.19.5 in /usr/local/lib/python3.9/dist-packages (from google-api-core!=2.0.*,!=2.1.*,!=2.2.*,!=2.3.0,<3.0.0dev,>=1.31.5->google-cloud-storage->gcsfs) (3.19.6)\n",
            "Requirement already satisfied: google-crc32c<2.0dev,>=1.0 in /usr/local/lib/python3.9/dist-packages (from google-resumable-media>=2.3.2->google-cloud-storage->gcsfs) (1.5.0)\n",
            "Requirement already satisfied: pyasn1<0.5.0,>=0.4.6 in /usr/local/lib/python3.9/dist-packages (from pyasn1-modules>=0.2.1->google-auth>=1.2->gcsfs) (0.4.8)\n",
            "Requirement already satisfied: oauthlib>=3.0.0 in /usr/local/lib/python3.9/dist-packages (from requests-oauthlib>=0.7.0->google-auth-oauthlib->gcsfs) (3.2.2)\n",
            "Installing collected packages: multidict, frozenlist, charset-normalizer, async-timeout, yarl, aiosignal, aiohttp, gcsfs\n",
            "Successfully installed aiohttp-3.8.4 aiosignal-1.3.1 async-timeout-4.0.2 charset-normalizer-3.1.0 frozenlist-1.3.3 gcsfs-2023.3.0 multidict-6.0.4 yarl-1.8.2\n"
          ]
        }
      ],
      "source": [
        "pip install gcsfs"
      ]
    },
    {
      "cell_type": "code",
      "execution_count": null,
      "metadata": {
        "colab": {
          "base_uri": "https://localhost:8080/"
        },
        "id": "HnMu8oXo3HoU",
        "outputId": "43d8962a-f932-416f-ef39-a6b995511eef"
      },
      "outputs": [
        {
          "output_type": "stream",
          "name": "stdout",
          "text": [
            "Looking in indexes: https://pypi.org/simple, https://us-python.pkg.dev/colab-wheels/public/simple/\n",
            "Collecting pandera\n",
            "  Downloading pandera-0.13.4-py3-none-any.whl (122 kB)\n",
            "\u001b[2K     \u001b[90m━━━━━━━━━━━━━━━━━━━━━━━━━━━━━━━━━━━━━━━\u001b[0m \u001b[32m122.4/122.4 KB\u001b[0m \u001b[31m3.7 MB/s\u001b[0m eta \u001b[36m0:00:00\u001b[0m\n",
            "\u001b[?25hRequirement already satisfied: numpy>=1.19.0 in /usr/local/lib/python3.9/dist-packages (from pandera) (1.22.4)\n",
            "Collecting typing-inspect>=0.6.0\n",
            "  Downloading typing_inspect-0.8.0-py3-none-any.whl (8.7 kB)\n",
            "Requirement already satisfied: pydantic in /usr/local/lib/python3.9/dist-packages (from pandera) (1.10.5)\n",
            "Requirement already satisfied: pandas>=1.2.0 in /usr/local/lib/python3.9/dist-packages (from pandera) (1.3.5)\n",
            "Requirement already satisfied: packaging>=20.0 in /usr/local/lib/python3.9/dist-packages (from pandera) (23.0)\n",
            "Requirement already satisfied: wrapt in /usr/local/lib/python3.9/dist-packages (from pandera) (1.15.0)\n",
            "Requirement already satisfied: pytz>=2017.3 in /usr/local/lib/python3.9/dist-packages (from pandas>=1.2.0->pandera) (2022.7.1)\n",
            "Requirement already satisfied: python-dateutil>=2.7.3 in /usr/local/lib/python3.9/dist-packages (from pandas>=1.2.0->pandera) (2.8.2)\n",
            "Requirement already satisfied: typing-extensions>=3.7.4 in /usr/local/lib/python3.9/dist-packages (from typing-inspect>=0.6.0->pandera) (4.5.0)\n",
            "Collecting mypy-extensions>=0.3.0\n",
            "  Downloading mypy_extensions-1.0.0-py3-none-any.whl (4.7 kB)\n",
            "Requirement already satisfied: six>=1.5 in /usr/local/lib/python3.9/dist-packages (from python-dateutil>=2.7.3->pandas>=1.2.0->pandera) (1.15.0)\n",
            "Installing collected packages: mypy-extensions, typing-inspect, pandera\n",
            "Successfully installed mypy-extensions-1.0.0 pandera-0.13.4 typing-inspect-0.8.0\n"
          ]
        }
      ],
      "source": [
        "pip install pandera"
      ]
    },
    {
      "cell_type": "markdown",
      "metadata": {
        "id": "Pty_E5wu3Kd7"
      },
      "source": [
        "# Importações das Libs"
      ]
    },
    {
      "cell_type": "code",
      "execution_count": null,
      "metadata": {
        "id": "Jkcg1yZv3NzH"
      },
      "outputs": [],
      "source": [
        "import pymongo\n",
        "import pandas as pd\n",
        "import os\n",
        "import numpy as np\n",
        "import pandera as pa\n",
        "from pymongo import MongoClient\n",
        "from google.cloud import storage"
      ]
    },
    {
      "cell_type": "markdown",
      "metadata": {
        "id": "tcFGuQq53Un8"
      },
      "source": [
        "# Conector GCP"
      ]
    },
    {
      "cell_type": "code",
      "execution_count": null,
      "metadata": {
        "id": "mZNna_mR3W47"
      },
      "outputs": [],
      "source": [
        "#CONFIGURANDO DA CHAVE DE SEGURANCA (Enviada com o projeto)\n",
        "serviceAccount = '/content/fluid-firefly-377819-2bcdc3db620d.json'\n",
        "os.environ['GOOGLE_APPLICATION_CREDENTIALS'] = serviceAccount"
      ]
    },
    {
      "cell_type": "code",
      "execution_count": null,
      "metadata": {
        "id": "cWRHAQ5Y3X6V"
      },
      "outputs": [],
      "source": [
        "#Configurações Google Cloud Storage\n",
        "client = storage.Client()\n",
        "bucket = client.get_bucket('adriano-lengruber-01')\n",
        "bucket.blob('marketing_campaign.csv')\n",
        "path = 'gs://adriano-lengruber-01/brutos/marketing_campaign.csv'"
      ]
    },
    {
      "cell_type": "markdown",
      "metadata": {
        "id": "BaNaaZG43Z-t"
      },
      "source": [
        "# Conector MongoDB"
      ]
    },
    {
      "cell_type": "code",
      "source": [
        "uri = \"mongodb+srv://solucode.oceubf9.mongodb.net/?authSource=%24external&authMechanism=MONGODB-X509&retryWrites=true&w=majority\"\n",
        "client = MongoClient(uri,\n",
        "                     tls=True,\n",
        "                     tlsCertificateKeyFile='/content/X509-cert-4253424679511986131.pem',\n",
        "                     )\n",
        "db = client['mkt']\n",
        "collection = db['brutos']\n"
      ],
      "metadata": {
        "id": "a2vrimGshsQ1"
      },
      "execution_count": null,
      "outputs": []
    },
    {
      "cell_type": "code",
      "source": [
        "# Contando para verificar quantos docs existem na coleção\n",
        "\n",
        "doc_count = collection.count_documents({})\n",
        "print(doc_count)"
      ],
      "metadata": {
        "colab": {
          "base_uri": "https://localhost:8080/"
        },
        "id": "2RWaf-9Sigd1",
        "outputId": "d1d181ae-420d-4503-e838-b5281ecb6a63"
      },
      "execution_count": null,
      "outputs": [
        {
          "output_type": "stream",
          "name": "stdout",
          "text": [
            "0\n"
          ]
        }
      ]
    },
    {
      "cell_type": "markdown",
      "metadata": {
        "id": "i138h_yQ3u8v"
      },
      "source": [
        "#Extração dos dados BRUTOS"
      ]
    },
    {
      "cell_type": "code",
      "execution_count": null,
      "metadata": {
        "id": "9lET5gFp3zKR"
      },
      "outputs": [],
      "source": [
        "\n",
        "# Extração dos dados já alterando o tipo da coluna \"Dt_Customer\" para DateTime\n",
        "df = pd.read_csv(path,sep=',',parse_dates=['Dt_Customer'],dayfirst=True)\n"
      ]
    },
    {
      "cell_type": "code",
      "execution_count": null,
      "metadata": {
        "id": "GcCI3p4IApQr"
      },
      "outputs": [],
      "source": [
        "#Fazendo o backup de segurança\n",
        "df_bkp = df.copy()"
      ]
    },
    {
      "cell_type": "code",
      "execution_count": null,
      "metadata": {
        "id": "rJgg3O4hAFif"
      },
      "outputs": [],
      "source": [
        "#Solução para conseguir visualizar todas as colunas do dataframe\n",
        "pd.set_option('display.max_columns',100)"
      ]
    },
    {
      "cell_type": "code",
      "execution_count": null,
      "metadata": {
        "id": "FQNWrQCV3uQ7"
      },
      "outputs": [],
      "source": [
        "df"
      ]
    },
    {
      "cell_type": "markdown",
      "source": [
        "#Enviando Brutos para MongoDB"
      ],
      "metadata": {
        "id": "NFhW-yF8u2gM"
      }
    },
    {
      "cell_type": "code",
      "source": [
        "#seleção de base e coleçao\n",
        "db = client['mkt']\n",
        "colecaob = db['brutos']"
      ],
      "metadata": {
        "id": "nmF21fQ2u8ct"
      },
      "execution_count": null,
      "outputs": []
    },
    {
      "cell_type": "code",
      "source": [
        "#Transformando dados brutos em dicionário e \n",
        "#Envio dos dados brutos para o MongoDB\n",
        "df_bruto = df.to_dict(\"records\")\n",
        "collection.insert_many(df_bruto)"
      ],
      "metadata": {
        "colab": {
          "base_uri": "https://localhost:8080/"
        },
        "id": "sN0o27tfw8s5",
        "outputId": "c14eac76-5930-4fa9-c763-f00a54dc5f80"
      },
      "execution_count": null,
      "outputs": [
        {
          "output_type": "execute_result",
          "data": {
            "text/plain": [
              "<pymongo.results.InsertManyResult at 0x7fa8c2a53580>"
            ]
          },
          "metadata": {},
          "execution_count": 11
        }
      ]
    },
    {
      "cell_type": "code",
      "source": [
        "# Contando NOVAMENTE para verificar quantos docs existem na coleção e vendo que foi inserido nosso DF\n",
        "doc_count = collection.count_documents({})\n",
        "print(doc_count)"
      ],
      "metadata": {
        "colab": {
          "base_uri": "https://localhost:8080/"
        },
        "id": "TJf6rSzp3qSm",
        "outputId": "ce643c87-4160-4a0f-95e7-df61f10e73b1"
      },
      "execution_count": null,
      "outputs": [
        {
          "output_type": "stream",
          "name": "stdout",
          "text": [
            "2240\n"
          ]
        }
      ]
    },
    {
      "cell_type": "markdown",
      "metadata": {
        "id": "11Em3J8vBFgD"
      },
      "source": [
        "#Tratamento dos dados"
      ]
    },
    {
      "cell_type": "code",
      "execution_count": null,
      "metadata": {
        "id": "b-kG64gEBIfr"
      },
      "outputs": [],
      "source": [
        "# Deixando nome de coluna em minuscula\n",
        "df.columns = df.columns.str.lower()"
      ]
    },
    {
      "cell_type": "code",
      "execution_count": null,
      "metadata": {
        "id": "3E3SUQBnOua6",
        "colab": {
          "base_uri": "https://localhost:8080/"
        },
        "outputId": "a78627b0-666e-42d4-b155-c7a045a780e4"
      },
      "outputs": [
        {
          "output_type": "execute_result",
          "data": {
            "text/plain": [
              "id                              int64\n",
              "year_birth                      int64\n",
              "education                      object\n",
              "marital_status                 object\n",
              "income                        float64\n",
              "kidhome                         int64\n",
              "teenhome                        int64\n",
              "dt_customer            datetime64[ns]\n",
              "recency                         int64\n",
              "mntwines                        int64\n",
              "mntfruits                       int64\n",
              "mntmeatproducts                 int64\n",
              "mntfishproducts                 int64\n",
              "mntsweetproducts                int64\n",
              "mntgoldprods                    int64\n",
              "numdealspurchases               int64\n",
              "numwebpurchases                 int64\n",
              "numcatalogpurchases             int64\n",
              "numstorepurchases               int64\n",
              "numwebvisitsmonth               int64\n",
              "acceptedcmp3                    int64\n",
              "acceptedcmp4                    int64\n",
              "acceptedcmp5                    int64\n",
              "acceptedcmp1                    int64\n",
              "acceptedcmp2                    int64\n",
              "complain                        int64\n",
              "z_costcontact                   int64\n",
              "z_revenue                       int64\n",
              "response                        int64\n",
              "dtype: object"
            ]
          },
          "metadata": {},
          "execution_count": 14
        }
      ],
      "source": [
        "df.dtypes"
      ]
    },
    {
      "cell_type": "code",
      "execution_count": null,
      "metadata": {
        "id": "bCx4xAyIBRci"
      },
      "outputs": [],
      "source": [
        " # Traduzindo Colunas\n",
        "\n",
        "df.rename(columns={'year_birth':'ano_nascimento',\n",
        "                   'education': 'escolaridade',\n",
        "                   'marital_status':'estado_civil',\n",
        "                   'income':'renda_anual',\n",
        "                   'kidhome':'n_criancas',\n",
        "                   'teenhome':'n_adolescentes',\n",
        "                   'dt_customer':'data_cadastro',\n",
        "                   'recency':'n_dias_ult_compra',\n",
        "                   'mntwines':'vinicolas',\n",
        "                   'mntfruits':'frutas',\n",
        "                   'mntmeatproducts':'carne',\n",
        "                   'mntfishproducts':'peixe',\n",
        "                   'mntsweetproducts':'doces',\n",
        "                   'mntgoldprods':'produtos_ouro',\n",
        "                   'numdealspurchases':'oferta_compra', \n",
        "                   'numwebpurchases':'compras_site',\n",
        "                   'numcatalogpurchases':'catalogo',\n",
        "                   'numstorepurchases':'loja_fisica', \n",
        "                   'numwebvisitsmonth':'visitas_ult_mes',\n",
        "                   'acceptedcmp3':'campanha3', \n",
        "                   'acceptedcmp4':'campanha4', \n",
        "                   'acceptedcmp5':'campanha5', \n",
        "                   'acceptedcmp1':'campanha1',\n",
        "                   'acceptedcmp2':'campanha2', \n",
        "                   'complain':'reclamacoes', \n",
        "                   'z_costcontact':'custo_contato', \n",
        "                   'z_revenue':'receita', \n",
        "                   'response':'resposta',}, inplace=True)\n"
      ]
    },
    {
      "cell_type": "code",
      "execution_count": null,
      "metadata": {
        "id": "jYiq-dG4UEhR",
        "colab": {
          "base_uri": "https://localhost:8080/"
        },
        "outputId": "eb048f01-7861-49ef-dbdb-df20418e0035"
      },
      "outputs": [
        {
          "output_type": "execute_result",
          "data": {
            "text/plain": [
              "['Absurd',\n",
              " 'Alone',\n",
              " 'Divorced',\n",
              " 'Married',\n",
              " 'Single',\n",
              " 'Together',\n",
              " 'Widow',\n",
              " 'YOLO']"
            ]
          },
          "metadata": {},
          "execution_count": 16
        }
      ],
      "source": [
        "# Verificando lista de dados únicos da coluna \"estado_civil\". Foi usada uma comninação de unique() com a função sorted\n",
        "#apenas para aparecer mais organizado(nesse caso o sorted colocou em ordem alfabética)\n",
        "sorted(df['estado_civil'].unique())"
      ]
    },
    {
      "cell_type": "code",
      "execution_count": null,
      "metadata": {
        "id": "_xBMvm8VU9bz"
      },
      "outputs": [],
      "source": [
        "# Traduzindo campos dentro de coluna estado civil - necessidade de trocar somente os atributos na busca\n",
        "df.loc[df.estado_civil == 'Absurd',['estado_civil']] = 'Absurd'\n",
        "df.loc[df.estado_civil == 'Alone',['estado_civil']] = 'Sozinho'\n",
        "df.loc[df.estado_civil == 'Divorced',['estado_civil']] = 'Divorciado(a)'\n",
        "df.loc[df.estado_civil == 'Married',['estado_civil']] = 'Casado(a)'\n",
        "df.loc[df.estado_civil == 'Single',['estado_civil']] = 'Solteiro(a)'\n",
        "df.loc[df.estado_civil == 'Together',['estado_civil']] = 'Uniao Estavel'\n",
        "df.loc[df.estado_civil == 'Widow',['estado_civil']] = 'Viuvo(a)'\n",
        "df.loc[df.estado_civil == 'YOLO',['estado_civil']] = 'YOLO'"
      ]
    },
    {
      "cell_type": "code",
      "execution_count": null,
      "metadata": {
        "id": "nMbX1NH3ZCQy",
        "colab": {
          "base_uri": "https://localhost:8080/"
        },
        "outputId": "e0b3c1c3-a1ce-4776-a743-e48d0184973b"
      },
      "outputs": [
        {
          "output_type": "execute_result",
          "data": {
            "text/plain": [
              "['2n Cycle', 'Basic', 'Graduation', 'Master', 'PhD']"
            ]
          },
          "metadata": {},
          "execution_count": 18
        }
      ],
      "source": [
        "#Verificando a lista de dados únicos da coluna \"escolaridade\"\n",
        "sorted(df['escolaridade'].unique())"
      ]
    },
    {
      "cell_type": "code",
      "execution_count": null,
      "metadata": {
        "id": "y5Qq05wbZQAi"
      },
      "outputs": [],
      "source": [
        "# Traduzindo campos dentro de coluna esolaridade - necessidade de trocar somente os atributos na busca\n",
        "df.loc[df.escolaridade == 'Master',['escolaridade']] = 'Mestrado'\n",
        "df.loc[df.escolaridade == 'Basic',['escolaridade']] = 'Formacao_Basica'\n",
        "df.loc[df.escolaridade == 'Graduation',['escolaridade']] = 'Graduacao'\n",
        "df.loc[df.escolaridade == '2n Cycle',['escolaridade']] = 'Pós-graduação'"
      ]
    },
    {
      "cell_type": "code",
      "execution_count": null,
      "metadata": {
        "id": "wL-ifEMGacyd",
        "colab": {
          "base_uri": "https://localhost:8080/"
        },
        "outputId": "8f3bffcf-96d2-4875-c84e-c0b3594b38c7"
      },
      "outputs": [
        {
          "output_type": "execute_result",
          "data": {
            "text/plain": [
              "id                            int64\n",
              "ano_nascimento                int64\n",
              "escolaridade                 object\n",
              "estado_civil                 object\n",
              "renda_anual                 float64\n",
              "n_criancas                    int64\n",
              "n_adolescentes                int64\n",
              "data_cadastro        datetime64[ns]\n",
              "n_dias_ult_compra             int64\n",
              "vinicolas                     int64\n",
              "frutas                        int64\n",
              "carne                         int64\n",
              "peixe                         int64\n",
              "doces                         int64\n",
              "produtos_ouro                 int64\n",
              "oferta_compra                 int64\n",
              "compras_site                  int64\n",
              "catalogo                      int64\n",
              "loja_fisica                   int64\n",
              "visitas_ult_mes               int64\n",
              "campanha3                     int64\n",
              "campanha4                     int64\n",
              "campanha5                     int64\n",
              "campanha1                     int64\n",
              "campanha2                     int64\n",
              "reclamacoes                   int64\n",
              "custo_contato                 int64\n",
              "receita                       int64\n",
              "resposta                      int64\n",
              "dtype: object"
            ]
          },
          "metadata": {},
          "execution_count": 20
        }
      ],
      "source": [
        "df.dtypes"
      ]
    },
    {
      "cell_type": "code",
      "execution_count": null,
      "metadata": {
        "id": "j7GjIdwIgCym",
        "colab": {
          "base_uri": "https://localhost:8080/"
        },
        "outputId": "5ddd87a8-3065-4e87-aacc-7819e512cca4"
      },
      "outputs": [
        {
          "output_type": "execute_result",
          "data": {
            "text/plain": [
              "id                   2240\n",
              "ano_nascimento       2240\n",
              "escolaridade         2240\n",
              "estado_civil         2240\n",
              "renda_anual          2216\n",
              "n_criancas           2240\n",
              "n_adolescentes       2240\n",
              "data_cadastro        2240\n",
              "n_dias_ult_compra    2240\n",
              "vinicolas            2240\n",
              "frutas               2240\n",
              "carne                2240\n",
              "peixe                2240\n",
              "doces                2240\n",
              "produtos_ouro        2240\n",
              "oferta_compra        2240\n",
              "compras_site         2240\n",
              "catalogo             2240\n",
              "loja_fisica          2240\n",
              "visitas_ult_mes      2240\n",
              "campanha3            2240\n",
              "campanha4            2240\n",
              "campanha5            2240\n",
              "campanha1            2240\n",
              "campanha2            2240\n",
              "reclamacoes          2240\n",
              "custo_contato        2240\n",
              "receita              2240\n",
              "resposta             2240\n",
              "dtype: int64"
            ]
          },
          "metadata": {},
          "execution_count": 21
        }
      ],
      "source": [
        "df.count()"
      ]
    },
    {
      "cell_type": "code",
      "execution_count": null,
      "metadata": {
        "id": "hamhss-ahCGR",
        "colab": {
          "base_uri": "https://localhost:8080/"
        },
        "outputId": "cf8aff8a-d663-4275-bc4c-e045ad0a109e"
      },
      "outputs": [
        {
          "output_type": "execute_result",
          "data": {
            "text/plain": [
              "renda_anual\n",
              "NaN        24\n",
              "7500.0     12\n",
              "35860.0     4\n",
              "47025.0     3\n",
              "48432.0     3\n",
              "           ..\n",
              "42160.0     1\n",
              "42081.0     1\n",
              "42033.0     1\n",
              "42021.0     1\n",
              "51813.0     1\n",
              "Length: 1975, dtype: int64"
            ]
          },
          "metadata": {},
          "execution_count": 22
        }
      ],
      "source": [
        "#df.counts mostrou que tem dados faltantes na coluna renda anual\n",
        "\n",
        "#Verificando a qtd de NaN no DF - devemos verificar o motivo deste dado estar faltando \n",
        "df.groupby(['renda_anual'],dropna=False).size().sort_values(ascending=False)"
      ]
    },
    {
      "cell_type": "code",
      "source": [
        "#Lembramos de colocar os dados do DF em letra maíscula apenas no final da análise e encontramos este código na nossa pesquisa \n",
        "df.applymap(lambda x: x.upper() if isinstance(x, str) else x)"
      ],
      "metadata": {
        "id": "MgPmKYjMvqPj",
        "colab": {
          "base_uri": "https://localhost:8080/",
          "height": 557
        },
        "outputId": "e7ef3a9c-3da2-49cc-8c6e-2f2ece07dc36"
      },
      "execution_count": null,
      "outputs": [
        {
          "output_type": "execute_result",
          "data": {
            "text/plain": [
              "         id  ano_nascimento escolaridade   estado_civil  renda_anual  \\\n",
              "0      5524            1957    GRADUACAO    SOLTEIRO(A)      58138.0   \n",
              "1      2174            1954    GRADUACAO    SOLTEIRO(A)      46344.0   \n",
              "2      4141            1965    GRADUACAO  UNIAO ESTAVEL      71613.0   \n",
              "3      6182            1984    GRADUACAO  UNIAO ESTAVEL      26646.0   \n",
              "4      5324            1981          PHD      CASADO(A)      58293.0   \n",
              "...     ...             ...          ...            ...          ...   \n",
              "2235  10870            1967    GRADUACAO      CASADO(A)      61223.0   \n",
              "2236   4001            1946          PHD  UNIAO ESTAVEL      64014.0   \n",
              "2237   7270            1981    GRADUACAO  DIVORCIADO(A)      56981.0   \n",
              "2238   8235            1956     MESTRADO  UNIAO ESTAVEL      69245.0   \n",
              "2239   9405            1954          PHD      CASADO(A)      52869.0   \n",
              "\n",
              "      n_criancas  n_adolescentes data_cadastro  n_dias_ult_compra  vinicolas  \\\n",
              "0              0               0    2012-09-04                 58        635   \n",
              "1              1               1    2014-03-08                 38         11   \n",
              "2              0               0    2013-08-21                 26        426   \n",
              "3              1               0    2014-02-10                 26         11   \n",
              "4              1               0    2014-01-19                 94        173   \n",
              "...          ...             ...           ...                ...        ...   \n",
              "2235           0               1    2013-06-13                 46        709   \n",
              "2236           2               1    2014-06-10                 56        406   \n",
              "2237           0               0    2014-01-25                 91        908   \n",
              "2238           0               1    2014-01-24                  8        428   \n",
              "2239           1               1    2012-10-15                 40         84   \n",
              "\n",
              "      ...  visitas_ult_mes  campanha3  campanha4  campanha5  campanha1  \\\n",
              "0     ...                7          0          0          0          0   \n",
              "1     ...                5          0          0          0          0   \n",
              "2     ...                4          0          0          0          0   \n",
              "3     ...                6          0          0          0          0   \n",
              "4     ...                5          0          0          0          0   \n",
              "...   ...              ...        ...        ...        ...        ...   \n",
              "2235  ...                5          0          0          0          0   \n",
              "2236  ...                7          0          0          0          1   \n",
              "2237  ...                6          0          1          0          0   \n",
              "2238  ...                3          0          0          0          0   \n",
              "2239  ...                7          0          0          0          0   \n",
              "\n",
              "      campanha2  reclamacoes  custo_contato  receita  resposta  \n",
              "0             0            0              3       11         1  \n",
              "1             0            0              3       11         0  \n",
              "2             0            0              3       11         0  \n",
              "3             0            0              3       11         0  \n",
              "4             0            0              3       11         0  \n",
              "...         ...          ...            ...      ...       ...  \n",
              "2235          0            0              3       11         0  \n",
              "2236          0            0              3       11         0  \n",
              "2237          0            0              3       11         0  \n",
              "2238          0            0              3       11         0  \n",
              "2239          0            0              3       11         1  \n",
              "\n",
              "[2240 rows x 29 columns]"
            ],
            "text/html": [
              "\n",
              "  <div id=\"df-761df558-ff40-4294-b9aa-e5436957d5d5\">\n",
              "    <div class=\"colab-df-container\">\n",
              "      <div>\n",
              "<style scoped>\n",
              "    .dataframe tbody tr th:only-of-type {\n",
              "        vertical-align: middle;\n",
              "    }\n",
              "\n",
              "    .dataframe tbody tr th {\n",
              "        vertical-align: top;\n",
              "    }\n",
              "\n",
              "    .dataframe thead th {\n",
              "        text-align: right;\n",
              "    }\n",
              "</style>\n",
              "<table border=\"1\" class=\"dataframe\">\n",
              "  <thead>\n",
              "    <tr style=\"text-align: right;\">\n",
              "      <th></th>\n",
              "      <th>id</th>\n",
              "      <th>ano_nascimento</th>\n",
              "      <th>escolaridade</th>\n",
              "      <th>estado_civil</th>\n",
              "      <th>renda_anual</th>\n",
              "      <th>n_criancas</th>\n",
              "      <th>n_adolescentes</th>\n",
              "      <th>data_cadastro</th>\n",
              "      <th>n_dias_ult_compra</th>\n",
              "      <th>vinicolas</th>\n",
              "      <th>...</th>\n",
              "      <th>visitas_ult_mes</th>\n",
              "      <th>campanha3</th>\n",
              "      <th>campanha4</th>\n",
              "      <th>campanha5</th>\n",
              "      <th>campanha1</th>\n",
              "      <th>campanha2</th>\n",
              "      <th>reclamacoes</th>\n",
              "      <th>custo_contato</th>\n",
              "      <th>receita</th>\n",
              "      <th>resposta</th>\n",
              "    </tr>\n",
              "  </thead>\n",
              "  <tbody>\n",
              "    <tr>\n",
              "      <th>0</th>\n",
              "      <td>5524</td>\n",
              "      <td>1957</td>\n",
              "      <td>GRADUACAO</td>\n",
              "      <td>SOLTEIRO(A)</td>\n",
              "      <td>58138.0</td>\n",
              "      <td>0</td>\n",
              "      <td>0</td>\n",
              "      <td>2012-09-04</td>\n",
              "      <td>58</td>\n",
              "      <td>635</td>\n",
              "      <td>...</td>\n",
              "      <td>7</td>\n",
              "      <td>0</td>\n",
              "      <td>0</td>\n",
              "      <td>0</td>\n",
              "      <td>0</td>\n",
              "      <td>0</td>\n",
              "      <td>0</td>\n",
              "      <td>3</td>\n",
              "      <td>11</td>\n",
              "      <td>1</td>\n",
              "    </tr>\n",
              "    <tr>\n",
              "      <th>1</th>\n",
              "      <td>2174</td>\n",
              "      <td>1954</td>\n",
              "      <td>GRADUACAO</td>\n",
              "      <td>SOLTEIRO(A)</td>\n",
              "      <td>46344.0</td>\n",
              "      <td>1</td>\n",
              "      <td>1</td>\n",
              "      <td>2014-03-08</td>\n",
              "      <td>38</td>\n",
              "      <td>11</td>\n",
              "      <td>...</td>\n",
              "      <td>5</td>\n",
              "      <td>0</td>\n",
              "      <td>0</td>\n",
              "      <td>0</td>\n",
              "      <td>0</td>\n",
              "      <td>0</td>\n",
              "      <td>0</td>\n",
              "      <td>3</td>\n",
              "      <td>11</td>\n",
              "      <td>0</td>\n",
              "    </tr>\n",
              "    <tr>\n",
              "      <th>2</th>\n",
              "      <td>4141</td>\n",
              "      <td>1965</td>\n",
              "      <td>GRADUACAO</td>\n",
              "      <td>UNIAO ESTAVEL</td>\n",
              "      <td>71613.0</td>\n",
              "      <td>0</td>\n",
              "      <td>0</td>\n",
              "      <td>2013-08-21</td>\n",
              "      <td>26</td>\n",
              "      <td>426</td>\n",
              "      <td>...</td>\n",
              "      <td>4</td>\n",
              "      <td>0</td>\n",
              "      <td>0</td>\n",
              "      <td>0</td>\n",
              "      <td>0</td>\n",
              "      <td>0</td>\n",
              "      <td>0</td>\n",
              "      <td>3</td>\n",
              "      <td>11</td>\n",
              "      <td>0</td>\n",
              "    </tr>\n",
              "    <tr>\n",
              "      <th>3</th>\n",
              "      <td>6182</td>\n",
              "      <td>1984</td>\n",
              "      <td>GRADUACAO</td>\n",
              "      <td>UNIAO ESTAVEL</td>\n",
              "      <td>26646.0</td>\n",
              "      <td>1</td>\n",
              "      <td>0</td>\n",
              "      <td>2014-02-10</td>\n",
              "      <td>26</td>\n",
              "      <td>11</td>\n",
              "      <td>...</td>\n",
              "      <td>6</td>\n",
              "      <td>0</td>\n",
              "      <td>0</td>\n",
              "      <td>0</td>\n",
              "      <td>0</td>\n",
              "      <td>0</td>\n",
              "      <td>0</td>\n",
              "      <td>3</td>\n",
              "      <td>11</td>\n",
              "      <td>0</td>\n",
              "    </tr>\n",
              "    <tr>\n",
              "      <th>4</th>\n",
              "      <td>5324</td>\n",
              "      <td>1981</td>\n",
              "      <td>PHD</td>\n",
              "      <td>CASADO(A)</td>\n",
              "      <td>58293.0</td>\n",
              "      <td>1</td>\n",
              "      <td>0</td>\n",
              "      <td>2014-01-19</td>\n",
              "      <td>94</td>\n",
              "      <td>173</td>\n",
              "      <td>...</td>\n",
              "      <td>5</td>\n",
              "      <td>0</td>\n",
              "      <td>0</td>\n",
              "      <td>0</td>\n",
              "      <td>0</td>\n",
              "      <td>0</td>\n",
              "      <td>0</td>\n",
              "      <td>3</td>\n",
              "      <td>11</td>\n",
              "      <td>0</td>\n",
              "    </tr>\n",
              "    <tr>\n",
              "      <th>...</th>\n",
              "      <td>...</td>\n",
              "      <td>...</td>\n",
              "      <td>...</td>\n",
              "      <td>...</td>\n",
              "      <td>...</td>\n",
              "      <td>...</td>\n",
              "      <td>...</td>\n",
              "      <td>...</td>\n",
              "      <td>...</td>\n",
              "      <td>...</td>\n",
              "      <td>...</td>\n",
              "      <td>...</td>\n",
              "      <td>...</td>\n",
              "      <td>...</td>\n",
              "      <td>...</td>\n",
              "      <td>...</td>\n",
              "      <td>...</td>\n",
              "      <td>...</td>\n",
              "      <td>...</td>\n",
              "      <td>...</td>\n",
              "      <td>...</td>\n",
              "    </tr>\n",
              "    <tr>\n",
              "      <th>2235</th>\n",
              "      <td>10870</td>\n",
              "      <td>1967</td>\n",
              "      <td>GRADUACAO</td>\n",
              "      <td>CASADO(A)</td>\n",
              "      <td>61223.0</td>\n",
              "      <td>0</td>\n",
              "      <td>1</td>\n",
              "      <td>2013-06-13</td>\n",
              "      <td>46</td>\n",
              "      <td>709</td>\n",
              "      <td>...</td>\n",
              "      <td>5</td>\n",
              "      <td>0</td>\n",
              "      <td>0</td>\n",
              "      <td>0</td>\n",
              "      <td>0</td>\n",
              "      <td>0</td>\n",
              "      <td>0</td>\n",
              "      <td>3</td>\n",
              "      <td>11</td>\n",
              "      <td>0</td>\n",
              "    </tr>\n",
              "    <tr>\n",
              "      <th>2236</th>\n",
              "      <td>4001</td>\n",
              "      <td>1946</td>\n",
              "      <td>PHD</td>\n",
              "      <td>UNIAO ESTAVEL</td>\n",
              "      <td>64014.0</td>\n",
              "      <td>2</td>\n",
              "      <td>1</td>\n",
              "      <td>2014-06-10</td>\n",
              "      <td>56</td>\n",
              "      <td>406</td>\n",
              "      <td>...</td>\n",
              "      <td>7</td>\n",
              "      <td>0</td>\n",
              "      <td>0</td>\n",
              "      <td>0</td>\n",
              "      <td>1</td>\n",
              "      <td>0</td>\n",
              "      <td>0</td>\n",
              "      <td>3</td>\n",
              "      <td>11</td>\n",
              "      <td>0</td>\n",
              "    </tr>\n",
              "    <tr>\n",
              "      <th>2237</th>\n",
              "      <td>7270</td>\n",
              "      <td>1981</td>\n",
              "      <td>GRADUACAO</td>\n",
              "      <td>DIVORCIADO(A)</td>\n",
              "      <td>56981.0</td>\n",
              "      <td>0</td>\n",
              "      <td>0</td>\n",
              "      <td>2014-01-25</td>\n",
              "      <td>91</td>\n",
              "      <td>908</td>\n",
              "      <td>...</td>\n",
              "      <td>6</td>\n",
              "      <td>0</td>\n",
              "      <td>1</td>\n",
              "      <td>0</td>\n",
              "      <td>0</td>\n",
              "      <td>0</td>\n",
              "      <td>0</td>\n",
              "      <td>3</td>\n",
              "      <td>11</td>\n",
              "      <td>0</td>\n",
              "    </tr>\n",
              "    <tr>\n",
              "      <th>2238</th>\n",
              "      <td>8235</td>\n",
              "      <td>1956</td>\n",
              "      <td>MESTRADO</td>\n",
              "      <td>UNIAO ESTAVEL</td>\n",
              "      <td>69245.0</td>\n",
              "      <td>0</td>\n",
              "      <td>1</td>\n",
              "      <td>2014-01-24</td>\n",
              "      <td>8</td>\n",
              "      <td>428</td>\n",
              "      <td>...</td>\n",
              "      <td>3</td>\n",
              "      <td>0</td>\n",
              "      <td>0</td>\n",
              "      <td>0</td>\n",
              "      <td>0</td>\n",
              "      <td>0</td>\n",
              "      <td>0</td>\n",
              "      <td>3</td>\n",
              "      <td>11</td>\n",
              "      <td>0</td>\n",
              "    </tr>\n",
              "    <tr>\n",
              "      <th>2239</th>\n",
              "      <td>9405</td>\n",
              "      <td>1954</td>\n",
              "      <td>PHD</td>\n",
              "      <td>CASADO(A)</td>\n",
              "      <td>52869.0</td>\n",
              "      <td>1</td>\n",
              "      <td>1</td>\n",
              "      <td>2012-10-15</td>\n",
              "      <td>40</td>\n",
              "      <td>84</td>\n",
              "      <td>...</td>\n",
              "      <td>7</td>\n",
              "      <td>0</td>\n",
              "      <td>0</td>\n",
              "      <td>0</td>\n",
              "      <td>0</td>\n",
              "      <td>0</td>\n",
              "      <td>0</td>\n",
              "      <td>3</td>\n",
              "      <td>11</td>\n",
              "      <td>1</td>\n",
              "    </tr>\n",
              "  </tbody>\n",
              "</table>\n",
              "<p>2240 rows × 29 columns</p>\n",
              "</div>\n",
              "      <button class=\"colab-df-convert\" onclick=\"convertToInteractive('df-761df558-ff40-4294-b9aa-e5436957d5d5')\"\n",
              "              title=\"Convert this dataframe to an interactive table.\"\n",
              "              style=\"display:none;\">\n",
              "        \n",
              "  <svg xmlns=\"http://www.w3.org/2000/svg\" height=\"24px\"viewBox=\"0 0 24 24\"\n",
              "       width=\"24px\">\n",
              "    <path d=\"M0 0h24v24H0V0z\" fill=\"none\"/>\n",
              "    <path d=\"M18.56 5.44l.94 2.06.94-2.06 2.06-.94-2.06-.94-.94-2.06-.94 2.06-2.06.94zm-11 1L8.5 8.5l.94-2.06 2.06-.94-2.06-.94L8.5 2.5l-.94 2.06-2.06.94zm10 10l.94 2.06.94-2.06 2.06-.94-2.06-.94-.94-2.06-.94 2.06-2.06.94z\"/><path d=\"M17.41 7.96l-1.37-1.37c-.4-.4-.92-.59-1.43-.59-.52 0-1.04.2-1.43.59L10.3 9.45l-7.72 7.72c-.78.78-.78 2.05 0 2.83L4 21.41c.39.39.9.59 1.41.59.51 0 1.02-.2 1.41-.59l7.78-7.78 2.81-2.81c.8-.78.8-2.07 0-2.86zM5.41 20L4 18.59l7.72-7.72 1.47 1.35L5.41 20z\"/>\n",
              "  </svg>\n",
              "      </button>\n",
              "      \n",
              "  <style>\n",
              "    .colab-df-container {\n",
              "      display:flex;\n",
              "      flex-wrap:wrap;\n",
              "      gap: 12px;\n",
              "    }\n",
              "\n",
              "    .colab-df-convert {\n",
              "      background-color: #E8F0FE;\n",
              "      border: none;\n",
              "      border-radius: 50%;\n",
              "      cursor: pointer;\n",
              "      display: none;\n",
              "      fill: #1967D2;\n",
              "      height: 32px;\n",
              "      padding: 0 0 0 0;\n",
              "      width: 32px;\n",
              "    }\n",
              "\n",
              "    .colab-df-convert:hover {\n",
              "      background-color: #E2EBFA;\n",
              "      box-shadow: 0px 1px 2px rgba(60, 64, 67, 0.3), 0px 1px 3px 1px rgba(60, 64, 67, 0.15);\n",
              "      fill: #174EA6;\n",
              "    }\n",
              "\n",
              "    [theme=dark] .colab-df-convert {\n",
              "      background-color: #3B4455;\n",
              "      fill: #D2E3FC;\n",
              "    }\n",
              "\n",
              "    [theme=dark] .colab-df-convert:hover {\n",
              "      background-color: #434B5C;\n",
              "      box-shadow: 0px 1px 3px 1px rgba(0, 0, 0, 0.15);\n",
              "      filter: drop-shadow(0px 1px 2px rgba(0, 0, 0, 0.3));\n",
              "      fill: #FFFFFF;\n",
              "    }\n",
              "  </style>\n",
              "\n",
              "      <script>\n",
              "        const buttonEl =\n",
              "          document.querySelector('#df-761df558-ff40-4294-b9aa-e5436957d5d5 button.colab-df-convert');\n",
              "        buttonEl.style.display =\n",
              "          google.colab.kernel.accessAllowed ? 'block' : 'none';\n",
              "\n",
              "        async function convertToInteractive(key) {\n",
              "          const element = document.querySelector('#df-761df558-ff40-4294-b9aa-e5436957d5d5');\n",
              "          const dataTable =\n",
              "            await google.colab.kernel.invokeFunction('convertToInteractive',\n",
              "                                                     [key], {});\n",
              "          if (!dataTable) return;\n",
              "\n",
              "          const docLinkHtml = 'Like what you see? Visit the ' +\n",
              "            '<a target=\"_blank\" href=https://colab.research.google.com/notebooks/data_table.ipynb>data table notebook</a>'\n",
              "            + ' to learn more about interactive tables.';\n",
              "          element.innerHTML = '';\n",
              "          dataTable['output_type'] = 'display_data';\n",
              "          await google.colab.output.renderOutput(dataTable, element);\n",
              "          const docLink = document.createElement('div');\n",
              "          docLink.innerHTML = docLinkHtml;\n",
              "          element.appendChild(docLink);\n",
              "        }\n",
              "      </script>\n",
              "    </div>\n",
              "  </div>\n",
              "  "
            ]
          },
          "metadata": {},
          "execution_count": 23
        }
      ]
    },
    {
      "cell_type": "markdown",
      "source": [
        "##Explorando colunas"
      ],
      "metadata": {
        "id": "Ssr3uRCCMghc"
      }
    },
    {
      "cell_type": "code",
      "source": [
        "df.head(5)"
      ],
      "metadata": {
        "id": "oHKo0healLwA",
        "colab": {
          "base_uri": "https://localhost:8080/"
        },
        "outputId": "ca1bc434-6e55-47c4-d687-fb8a7646d291"
      },
      "execution_count": null,
      "outputs": [
        {
          "output_type": "execute_result",
          "data": {
            "text/plain": [
              "     id  ano_nascimento escolaridade   estado_civil  renda_anual  n_criancas  \\\n",
              "0  5524            1957    Graduacao    Solteiro(a)      58138.0           0   \n",
              "1  2174            1954    Graduacao    Solteiro(a)      46344.0           1   \n",
              "2  4141            1965    Graduacao  Uniao Estavel      71613.0           0   \n",
              "3  6182            1984    Graduacao  Uniao Estavel      26646.0           1   \n",
              "4  5324            1981          PhD      Casado(a)      58293.0           1   \n",
              "\n",
              "   n_adolescentes data_cadastro  n_dias_ult_compra  vinicolas  ...  \\\n",
              "0               0    2012-09-04                 58        635  ...   \n",
              "1               1    2014-03-08                 38         11  ...   \n",
              "2               0    2013-08-21                 26        426  ...   \n",
              "3               0    2014-02-10                 26         11  ...   \n",
              "4               0    2014-01-19                 94        173  ...   \n",
              "\n",
              "   visitas_ult_mes  campanha3  campanha4  campanha5  campanha1  campanha2  \\\n",
              "0                7          0          0          0          0          0   \n",
              "1                5          0          0          0          0          0   \n",
              "2                4          0          0          0          0          0   \n",
              "3                6          0          0          0          0          0   \n",
              "4                5          0          0          0          0          0   \n",
              "\n",
              "   reclamacoes  custo_contato  receita  resposta  \n",
              "0            0              3       11         1  \n",
              "1            0              3       11         0  \n",
              "2            0              3       11         0  \n",
              "3            0              3       11         0  \n",
              "4            0              3       11         0  \n",
              "\n",
              "[5 rows x 29 columns]"
            ],
            "text/html": [
              "\n",
              "  <div id=\"df-2cdfebde-648a-4dc7-90bf-7a11a50f1223\">\n",
              "    <div class=\"colab-df-container\">\n",
              "      <div>\n",
              "<style scoped>\n",
              "    .dataframe tbody tr th:only-of-type {\n",
              "        vertical-align: middle;\n",
              "    }\n",
              "\n",
              "    .dataframe tbody tr th {\n",
              "        vertical-align: top;\n",
              "    }\n",
              "\n",
              "    .dataframe thead th {\n",
              "        text-align: right;\n",
              "    }\n",
              "</style>\n",
              "<table border=\"1\" class=\"dataframe\">\n",
              "  <thead>\n",
              "    <tr style=\"text-align: right;\">\n",
              "      <th></th>\n",
              "      <th>id</th>\n",
              "      <th>ano_nascimento</th>\n",
              "      <th>escolaridade</th>\n",
              "      <th>estado_civil</th>\n",
              "      <th>renda_anual</th>\n",
              "      <th>n_criancas</th>\n",
              "      <th>n_adolescentes</th>\n",
              "      <th>data_cadastro</th>\n",
              "      <th>n_dias_ult_compra</th>\n",
              "      <th>vinicolas</th>\n",
              "      <th>...</th>\n",
              "      <th>visitas_ult_mes</th>\n",
              "      <th>campanha3</th>\n",
              "      <th>campanha4</th>\n",
              "      <th>campanha5</th>\n",
              "      <th>campanha1</th>\n",
              "      <th>campanha2</th>\n",
              "      <th>reclamacoes</th>\n",
              "      <th>custo_contato</th>\n",
              "      <th>receita</th>\n",
              "      <th>resposta</th>\n",
              "    </tr>\n",
              "  </thead>\n",
              "  <tbody>\n",
              "    <tr>\n",
              "      <th>0</th>\n",
              "      <td>5524</td>\n",
              "      <td>1957</td>\n",
              "      <td>Graduacao</td>\n",
              "      <td>Solteiro(a)</td>\n",
              "      <td>58138.0</td>\n",
              "      <td>0</td>\n",
              "      <td>0</td>\n",
              "      <td>2012-09-04</td>\n",
              "      <td>58</td>\n",
              "      <td>635</td>\n",
              "      <td>...</td>\n",
              "      <td>7</td>\n",
              "      <td>0</td>\n",
              "      <td>0</td>\n",
              "      <td>0</td>\n",
              "      <td>0</td>\n",
              "      <td>0</td>\n",
              "      <td>0</td>\n",
              "      <td>3</td>\n",
              "      <td>11</td>\n",
              "      <td>1</td>\n",
              "    </tr>\n",
              "    <tr>\n",
              "      <th>1</th>\n",
              "      <td>2174</td>\n",
              "      <td>1954</td>\n",
              "      <td>Graduacao</td>\n",
              "      <td>Solteiro(a)</td>\n",
              "      <td>46344.0</td>\n",
              "      <td>1</td>\n",
              "      <td>1</td>\n",
              "      <td>2014-03-08</td>\n",
              "      <td>38</td>\n",
              "      <td>11</td>\n",
              "      <td>...</td>\n",
              "      <td>5</td>\n",
              "      <td>0</td>\n",
              "      <td>0</td>\n",
              "      <td>0</td>\n",
              "      <td>0</td>\n",
              "      <td>0</td>\n",
              "      <td>0</td>\n",
              "      <td>3</td>\n",
              "      <td>11</td>\n",
              "      <td>0</td>\n",
              "    </tr>\n",
              "    <tr>\n",
              "      <th>2</th>\n",
              "      <td>4141</td>\n",
              "      <td>1965</td>\n",
              "      <td>Graduacao</td>\n",
              "      <td>Uniao Estavel</td>\n",
              "      <td>71613.0</td>\n",
              "      <td>0</td>\n",
              "      <td>0</td>\n",
              "      <td>2013-08-21</td>\n",
              "      <td>26</td>\n",
              "      <td>426</td>\n",
              "      <td>...</td>\n",
              "      <td>4</td>\n",
              "      <td>0</td>\n",
              "      <td>0</td>\n",
              "      <td>0</td>\n",
              "      <td>0</td>\n",
              "      <td>0</td>\n",
              "      <td>0</td>\n",
              "      <td>3</td>\n",
              "      <td>11</td>\n",
              "      <td>0</td>\n",
              "    </tr>\n",
              "    <tr>\n",
              "      <th>3</th>\n",
              "      <td>6182</td>\n",
              "      <td>1984</td>\n",
              "      <td>Graduacao</td>\n",
              "      <td>Uniao Estavel</td>\n",
              "      <td>26646.0</td>\n",
              "      <td>1</td>\n",
              "      <td>0</td>\n",
              "      <td>2014-02-10</td>\n",
              "      <td>26</td>\n",
              "      <td>11</td>\n",
              "      <td>...</td>\n",
              "      <td>6</td>\n",
              "      <td>0</td>\n",
              "      <td>0</td>\n",
              "      <td>0</td>\n",
              "      <td>0</td>\n",
              "      <td>0</td>\n",
              "      <td>0</td>\n",
              "      <td>3</td>\n",
              "      <td>11</td>\n",
              "      <td>0</td>\n",
              "    </tr>\n",
              "    <tr>\n",
              "      <th>4</th>\n",
              "      <td>5324</td>\n",
              "      <td>1981</td>\n",
              "      <td>PhD</td>\n",
              "      <td>Casado(a)</td>\n",
              "      <td>58293.0</td>\n",
              "      <td>1</td>\n",
              "      <td>0</td>\n",
              "      <td>2014-01-19</td>\n",
              "      <td>94</td>\n",
              "      <td>173</td>\n",
              "      <td>...</td>\n",
              "      <td>5</td>\n",
              "      <td>0</td>\n",
              "      <td>0</td>\n",
              "      <td>0</td>\n",
              "      <td>0</td>\n",
              "      <td>0</td>\n",
              "      <td>0</td>\n",
              "      <td>3</td>\n",
              "      <td>11</td>\n",
              "      <td>0</td>\n",
              "    </tr>\n",
              "  </tbody>\n",
              "</table>\n",
              "<p>5 rows × 29 columns</p>\n",
              "</div>\n",
              "      <button class=\"colab-df-convert\" onclick=\"convertToInteractive('df-2cdfebde-648a-4dc7-90bf-7a11a50f1223')\"\n",
              "              title=\"Convert this dataframe to an interactive table.\"\n",
              "              style=\"display:none;\">\n",
              "        \n",
              "  <svg xmlns=\"http://www.w3.org/2000/svg\" height=\"24px\"viewBox=\"0 0 24 24\"\n",
              "       width=\"24px\">\n",
              "    <path d=\"M0 0h24v24H0V0z\" fill=\"none\"/>\n",
              "    <path d=\"M18.56 5.44l.94 2.06.94-2.06 2.06-.94-2.06-.94-.94-2.06-.94 2.06-2.06.94zm-11 1L8.5 8.5l.94-2.06 2.06-.94-2.06-.94L8.5 2.5l-.94 2.06-2.06.94zm10 10l.94 2.06.94-2.06 2.06-.94-2.06-.94-.94-2.06-.94 2.06-2.06.94z\"/><path d=\"M17.41 7.96l-1.37-1.37c-.4-.4-.92-.59-1.43-.59-.52 0-1.04.2-1.43.59L10.3 9.45l-7.72 7.72c-.78.78-.78 2.05 0 2.83L4 21.41c.39.39.9.59 1.41.59.51 0 1.02-.2 1.41-.59l7.78-7.78 2.81-2.81c.8-.78.8-2.07 0-2.86zM5.41 20L4 18.59l7.72-7.72 1.47 1.35L5.41 20z\"/>\n",
              "  </svg>\n",
              "      </button>\n",
              "      \n",
              "  <style>\n",
              "    .colab-df-container {\n",
              "      display:flex;\n",
              "      flex-wrap:wrap;\n",
              "      gap: 12px;\n",
              "    }\n",
              "\n",
              "    .colab-df-convert {\n",
              "      background-color: #E8F0FE;\n",
              "      border: none;\n",
              "      border-radius: 50%;\n",
              "      cursor: pointer;\n",
              "      display: none;\n",
              "      fill: #1967D2;\n",
              "      height: 32px;\n",
              "      padding: 0 0 0 0;\n",
              "      width: 32px;\n",
              "    }\n",
              "\n",
              "    .colab-df-convert:hover {\n",
              "      background-color: #E2EBFA;\n",
              "      box-shadow: 0px 1px 2px rgba(60, 64, 67, 0.3), 0px 1px 3px 1px rgba(60, 64, 67, 0.15);\n",
              "      fill: #174EA6;\n",
              "    }\n",
              "\n",
              "    [theme=dark] .colab-df-convert {\n",
              "      background-color: #3B4455;\n",
              "      fill: #D2E3FC;\n",
              "    }\n",
              "\n",
              "    [theme=dark] .colab-df-convert:hover {\n",
              "      background-color: #434B5C;\n",
              "      box-shadow: 0px 1px 3px 1px rgba(0, 0, 0, 0.15);\n",
              "      filter: drop-shadow(0px 1px 2px rgba(0, 0, 0, 0.3));\n",
              "      fill: #FFFFFF;\n",
              "    }\n",
              "  </style>\n",
              "\n",
              "      <script>\n",
              "        const buttonEl =\n",
              "          document.querySelector('#df-2cdfebde-648a-4dc7-90bf-7a11a50f1223 button.colab-df-convert');\n",
              "        buttonEl.style.display =\n",
              "          google.colab.kernel.accessAllowed ? 'block' : 'none';\n",
              "\n",
              "        async function convertToInteractive(key) {\n",
              "          const element = document.querySelector('#df-2cdfebde-648a-4dc7-90bf-7a11a50f1223');\n",
              "          const dataTable =\n",
              "            await google.colab.kernel.invokeFunction('convertToInteractive',\n",
              "                                                     [key], {});\n",
              "          if (!dataTable) return;\n",
              "\n",
              "          const docLinkHtml = 'Like what you see? Visit the ' +\n",
              "            '<a target=\"_blank\" href=https://colab.research.google.com/notebooks/data_table.ipynb>data table notebook</a>'\n",
              "            + ' to learn more about interactive tables.';\n",
              "          element.innerHTML = '';\n",
              "          dataTable['output_type'] = 'display_data';\n",
              "          await google.colab.output.renderOutput(dataTable, element);\n",
              "          const docLink = document.createElement('div');\n",
              "          docLink.innerHTML = docLinkHtml;\n",
              "          element.appendChild(docLink);\n",
              "        }\n",
              "      </script>\n",
              "    </div>\n",
              "  </div>\n",
              "  "
            ]
          },
          "metadata": {},
          "execution_count": 24
        }
      ]
    },
    {
      "cell_type": "code",
      "source": [
        "df.shape"
      ],
      "metadata": {
        "id": "sAV9JODeqLGc",
        "colab": {
          "base_uri": "https://localhost:8080/"
        },
        "outputId": "cecc50a9-73ab-4f22-ea94-410a2863e8fa"
      },
      "execution_count": null,
      "outputs": [
        {
          "output_type": "execute_result",
          "data": {
            "text/plain": [
              "(2240, 29)"
            ]
          },
          "metadata": {},
          "execution_count": 25
        }
      ]
    },
    {
      "cell_type": "markdown",
      "source": [
        "###passando unique() em colunas suspeitas"
      ],
      "metadata": {
        "id": "wFc7vbo4mY6G"
      }
    },
    {
      "cell_type": "code",
      "source": [
        "df['campanha3'].unique()"
      ],
      "metadata": {
        "id": "-P2r-1MggaMd",
        "colab": {
          "base_uri": "https://localhost:8080/"
        },
        "outputId": "6bb7a02a-8477-471a-f241-5725a04f805d"
      },
      "execution_count": null,
      "outputs": [
        {
          "output_type": "execute_result",
          "data": {
            "text/plain": [
              "array([0, 1])"
            ]
          },
          "metadata": {},
          "execution_count": 26
        }
      ]
    },
    {
      "cell_type": "code",
      "source": [
        "df['campanha4'].unique()"
      ],
      "metadata": {
        "id": "am2L8XmXlbuv",
        "colab": {
          "base_uri": "https://localhost:8080/"
        },
        "outputId": "0f103506-b051-4e34-ed5e-d7b80e26feae"
      },
      "execution_count": null,
      "outputs": [
        {
          "output_type": "execute_result",
          "data": {
            "text/plain": [
              "array([0, 1])"
            ]
          },
          "metadata": {},
          "execution_count": 27
        }
      ]
    },
    {
      "cell_type": "code",
      "source": [
        "df['campanha5'].unique()"
      ],
      "metadata": {
        "id": "6gdhEg-Alnhv",
        "colab": {
          "base_uri": "https://localhost:8080/"
        },
        "outputId": "ee50bbf0-e6e7-4a5d-ecc9-681ba551ac90"
      },
      "execution_count": null,
      "outputs": [
        {
          "output_type": "execute_result",
          "data": {
            "text/plain": [
              "array([0, 1])"
            ]
          },
          "metadata": {},
          "execution_count": 28
        }
      ]
    },
    {
      "cell_type": "code",
      "source": [
        "df['campanha1'].unique()"
      ],
      "metadata": {
        "id": "TtgmHRS2lrpU",
        "colab": {
          "base_uri": "https://localhost:8080/"
        },
        "outputId": "d20441f2-00fb-47f5-fe67-8286b5fb5711"
      },
      "execution_count": null,
      "outputs": [
        {
          "output_type": "execute_result",
          "data": {
            "text/plain": [
              "array([0, 1])"
            ]
          },
          "metadata": {},
          "execution_count": 29
        }
      ]
    },
    {
      "cell_type": "code",
      "source": [
        "df['campanha2'].unique()"
      ],
      "metadata": {
        "id": "anPCmr8flu9g",
        "colab": {
          "base_uri": "https://localhost:8080/"
        },
        "outputId": "c5777f45-537e-47b9-cebe-24a78680e087"
      },
      "execution_count": null,
      "outputs": [
        {
          "output_type": "execute_result",
          "data": {
            "text/plain": [
              "array([0, 1])"
            ]
          },
          "metadata": {},
          "execution_count": 30
        }
      ]
    },
    {
      "cell_type": "code",
      "source": [
        "df['reclamacoes'].unique()"
      ],
      "metadata": {
        "id": "YeJP6t2Al3nm",
        "colab": {
          "base_uri": "https://localhost:8080/"
        },
        "outputId": "849e1544-2733-40e3-fd16-f934997836cc"
      },
      "execution_count": null,
      "outputs": [
        {
          "output_type": "execute_result",
          "data": {
            "text/plain": [
              "array([0, 1])"
            ]
          },
          "metadata": {},
          "execution_count": 31
        }
      ]
    },
    {
      "cell_type": "code",
      "source": [
        "#Essa tem apenas um valor em todas as linas e será apagada adiante\n",
        "df['custo_contato'].unique()"
      ],
      "metadata": {
        "id": "jLqN0cNal92e",
        "colab": {
          "base_uri": "https://localhost:8080/"
        },
        "outputId": "be68c8f8-4fbb-4971-e1f7-4c555f1ec70b"
      },
      "execution_count": null,
      "outputs": [
        {
          "output_type": "execute_result",
          "data": {
            "text/plain": [
              "array([3])"
            ]
          },
          "metadata": {},
          "execution_count": 32
        }
      ]
    },
    {
      "cell_type": "code",
      "source": [
        "#Essa tem apenas um valor em todas as linas e será apagada adiante\n",
        "df['receita'].unique()"
      ],
      "metadata": {
        "id": "kS0TSSFSmICH",
        "colab": {
          "base_uri": "https://localhost:8080/"
        },
        "outputId": "529c8cbc-2488-4cbb-e88c-c5f5f2f5aacc"
      },
      "execution_count": null,
      "outputs": [
        {
          "output_type": "execute_result",
          "data": {
            "text/plain": [
              "array([11])"
            ]
          },
          "metadata": {},
          "execution_count": 33
        }
      ]
    },
    {
      "cell_type": "code",
      "source": [
        "df['resposta'].unique()"
      ],
      "metadata": {
        "id": "hKu43yYLmSq4",
        "colab": {
          "base_uri": "https://localhost:8080/"
        },
        "outputId": "c4ee37da-1cb1-431b-f0b2-849f5810ac24"
      },
      "execution_count": null,
      "outputs": [
        {
          "output_type": "execute_result",
          "data": {
            "text/plain": [
              "array([1, 0])"
            ]
          },
          "metadata": {},
          "execution_count": 34
        }
      ]
    },
    {
      "cell_type": "markdown",
      "source": [
        "###Verificando a variedades e quantidades em algumas colunas para ter ideia do que analisar em seguida"
      ],
      "metadata": {
        "id": "aRnpeacpnbOR"
      }
    },
    {
      "cell_type": "code",
      "source": [
        "#df['ano_nascimento'].value_counts()\n",
        "#mostrou alguns dados suspeitos. Colocamos para ordenar por ano crescente para facilitar encontrar esses dados\n",
        "#são os anos 1893,1899,1900. Esses valores podem atrapalhar algumas análises\n",
        "df['ano_nascimento'].value_counts().sort_index(ascending=True)"
      ],
      "metadata": {
        "id": "BS-WCTY8n_E9",
        "colab": {
          "base_uri": "https://localhost:8080/"
        },
        "outputId": "4f966cd2-4a05-444b-d320-64a323006b85"
      },
      "execution_count": null,
      "outputs": [
        {
          "output_type": "execute_result",
          "data": {
            "text/plain": [
              "1893     1\n",
              "1899     1\n",
              "1900     1\n",
              "1940     1\n",
              "1941     1\n",
              "1943     7\n",
              "1944     7\n",
              "1945     8\n",
              "1946    16\n",
              "1947    16\n",
              "1948    21\n",
              "1949    30\n",
              "1950    29\n",
              "1951    43\n",
              "1952    52\n",
              "1953    35\n",
              "1954    50\n",
              "1955    49\n",
              "1956    55\n",
              "1957    43\n",
              "1958    53\n",
              "1959    51\n",
              "1960    49\n",
              "1961    36\n",
              "1962    44\n",
              "1963    45\n",
              "1964    42\n",
              "1965    74\n",
              "1966    50\n",
              "1967    44\n",
              "1968    51\n",
              "1969    71\n",
              "1970    77\n",
              "1971    87\n",
              "1972    79\n",
              "1973    74\n",
              "1974    69\n",
              "1975    83\n",
              "1976    89\n",
              "1977    52\n",
              "1978    77\n",
              "1979    53\n",
              "1980    39\n",
              "1981    39\n",
              "1982    45\n",
              "1983    42\n",
              "1984    38\n",
              "1985    32\n",
              "1986    42\n",
              "1987    27\n",
              "1988    29\n",
              "1989    30\n",
              "1990    18\n",
              "1991    15\n",
              "1992    13\n",
              "1993     5\n",
              "1994     3\n",
              "1995     5\n",
              "1996     2\n",
              "Name: ano_nascimento, dtype: int64"
            ]
          },
          "metadata": {},
          "execution_count": 35
        }
      ]
    },
    {
      "cell_type": "code",
      "source": [
        " #A maioria dos clientes(praticamente metade) listados possui ensino superior completo\n",
        " df['escolaridade'].value_counts()"
      ],
      "metadata": {
        "id": "f8Dh6SoGo-vn",
        "colab": {
          "base_uri": "https://localhost:8080/"
        },
        "outputId": "9ea72779-86a1-4418-a43e-5caeffb3cb0b"
      },
      "execution_count": null,
      "outputs": [
        {
          "output_type": "execute_result",
          "data": {
            "text/plain": [
              "Graduacao          1127\n",
              "PhD                 486\n",
              "Mestrado            370\n",
              "Pós-graduação       203\n",
              "Formacao_Basica      54\n",
              "Name: escolaridade, dtype: int64"
            ]
          },
          "metadata": {},
          "execution_count": 36
        }
      ]
    },
    {
      "cell_type": "code",
      "source": [
        "#A maioria dos clientes listados é casado\n",
        "df['estado_civil'].value_counts()"
      ],
      "metadata": {
        "id": "XM46Xw1GpeqN",
        "colab": {
          "base_uri": "https://localhost:8080/"
        },
        "outputId": "e9c39a4d-bff9-4e9b-9395-97ddbfb7675e"
      },
      "execution_count": null,
      "outputs": [
        {
          "output_type": "execute_result",
          "data": {
            "text/plain": [
              "Casado(a)        864\n",
              "Uniao Estavel    580\n",
              "Solteiro(a)      480\n",
              "Divorciado(a)    232\n",
              "Viuvo(a)          77\n",
              "Sozinho            3\n",
              "Absurd             2\n",
              "YOLO               2\n",
              "Name: estado_civil, dtype: int64"
            ]
          },
          "metadata": {},
          "execution_count": 37
        }
      ]
    },
    {
      "cell_type": "code",
      "source": [
        "#Mais metade não tem crianças em casa\n",
        "df['n_criancas'].value_counts()"
      ],
      "metadata": {
        "id": "gTPI76Dypv8S",
        "colab": {
          "base_uri": "https://localhost:8080/"
        },
        "outputId": "5c641206-d3fb-40f7-b2f1-003fa274597d"
      },
      "execution_count": null,
      "outputs": [
        {
          "output_type": "execute_result",
          "data": {
            "text/plain": [
              "0    1293\n",
              "1     899\n",
              "2      48\n",
              "Name: n_criancas, dtype: int64"
            ]
          },
          "metadata": {},
          "execution_count": 38
        }
      ]
    },
    {
      "cell_type": "code",
      "source": [
        "#Quase metade não tem adolescentes em casa\n",
        "df['n_adolescentes'].value_counts()"
      ],
      "metadata": {
        "id": "f1uOQt84qgIe",
        "colab": {
          "base_uri": "https://localhost:8080/"
        },
        "outputId": "b3891a38-ecdd-4b49-f157-7d074e2b4ba7"
      },
      "execution_count": null,
      "outputs": [
        {
          "output_type": "execute_result",
          "data": {
            "text/plain": [
              "0    1158\n",
              "1    1030\n",
              "2      52\n",
              "Name: n_adolescentes, dtype: int64"
            ]
          },
          "metadata": {},
          "execution_count": 39
        }
      ]
    },
    {
      "cell_type": "markdown",
      "metadata": {
        "id": "YUMNEVzwhxXN"
      },
      "source": [
        "## DROP"
      ]
    },
    {
      "cell_type": "code",
      "execution_count": null,
      "metadata": {
        "id": "OB99-NMAhtaV"
      },
      "outputs": [],
      "source": [
        "#Foram descobertas duas colunas com apenas 1 dado durante a exploração das colunas\n",
        "#Essas colunas serão deletadas\n",
        "df.drop(['receita','custo_contato'],axis=1,inplace=True)"
      ]
    },
    {
      "cell_type": "markdown",
      "metadata": {
        "id": "G2iH3cd8xHWi"
      },
      "source": [
        "# SCHEMA"
      ]
    },
    {
      "cell_type": "code",
      "execution_count": null,
      "metadata": {
        "id": "-nWXovKr0PHr",
        "colab": {
          "base_uri": "https://localhost:8080/"
        },
        "outputId": "50de63cd-b194-4d06-cc23-c48b25e8d978"
      },
      "outputs": [
        {
          "output_type": "execute_result",
          "data": {
            "text/plain": [
              "id                            int64\n",
              "ano_nascimento                int64\n",
              "escolaridade                 object\n",
              "estado_civil                 object\n",
              "renda_anual                 float64\n",
              "n_criancas                    int64\n",
              "n_adolescentes                int64\n",
              "data_cadastro        datetime64[ns]\n",
              "n_dias_ult_compra             int64\n",
              "vinicolas                     int64\n",
              "frutas                        int64\n",
              "carne                         int64\n",
              "peixe                         int64\n",
              "doces                         int64\n",
              "produtos_ouro                 int64\n",
              "oferta_compra                 int64\n",
              "compras_site                  int64\n",
              "catalogo                      int64\n",
              "loja_fisica                   int64\n",
              "visitas_ult_mes               int64\n",
              "campanha3                     int64\n",
              "campanha4                     int64\n",
              "campanha5                     int64\n",
              "campanha1                     int64\n",
              "campanha2                     int64\n",
              "reclamacoes                   int64\n",
              "resposta                      int64\n",
              "dtype: object"
            ]
          },
          "metadata": {},
          "execution_count": 41
        }
      ],
      "source": [
        "df.dtypes"
      ]
    },
    {
      "cell_type": "code",
      "execution_count": null,
      "metadata": {
        "id": "c0v7dITMxJHY"
      },
      "outputs": [],
      "source": [
        "#Criação do schema pandera\n",
        "\n",
        "schema = pa.DataFrameSchema(\n",
        "    columns = {\n",
        "        'id':pa.Column(pa.Int),\n",
        "        'ano_nascimento':pa.Column(pa.Int),\n",
        "        'escolaridade':pa.Column(pa.String),\n",
        "        'estado_civil':pa.Column(pa.String),\n",
        "        'renda_anual':pa.Column(pa.Float, nullable=True),\n",
        "        'n_criancas':pa.Column(pa.Int),\n",
        "        'n_adolescentes':pa.Column(pa.Int),\n",
        "        'data_cadastro':pa.Column(pa.DateTime),\n",
        "        'n_dias_ult_compra':pa.Column(pa.Int),\n",
        "        'vinicolas':pa.Column(pa.Int),\n",
        "        'frutas':pa.Column(pa.Int),\n",
        "        'carne':pa.Column(pa.Int), \n",
        "        'peixe':pa.Column(pa.Int), \n",
        "        'doces':pa.Column(pa.Int), \n",
        "        'produtos_ouro':pa.Column(pa.Int),\n",
        "        'oferta_compra':pa.Column(pa.Int), \n",
        "        'compras_site':pa.Column(pa.Int), \n",
        "        'catalogo':pa.Column(pa.Int), \n",
        "        'loja_fisica':pa.Column(pa.Int), \n",
        "        'visitas_ult_mes':pa.Column(pa.Int),\n",
        "        'campanha3':pa.Column(pa.Int), \n",
        "        'campanha4':pa.Column(pa.Int), \n",
        "        'campanha5':pa.Column(pa.Int), \n",
        "        'campanha1':pa.Column(pa.Int), \n",
        "        'campanha2':pa.Column(pa.Int),\n",
        "        'reclamacoes':pa.Column(pa.Int), \n",
        "        'resposta':pa.Column(pa.Int),\n",
        "    }\n",
        ")"
      ]
    },
    {
      "cell_type": "code",
      "execution_count": null,
      "metadata": {
        "id": "kniIAYBv05rA",
        "colab": {
          "base_uri": "https://localhost:8080/"
        },
        "outputId": "d7ff9a8b-0bfa-4b16-e456-37ab276b29eb"
      },
      "outputs": [
        {
          "output_type": "execute_result",
          "data": {
            "text/plain": [
              "         id  ano_nascimento escolaridade   estado_civil  renda_anual  \\\n",
              "0      5524            1957    Graduacao    Solteiro(a)      58138.0   \n",
              "1      2174            1954    Graduacao    Solteiro(a)      46344.0   \n",
              "2      4141            1965    Graduacao  Uniao Estavel      71613.0   \n",
              "3      6182            1984    Graduacao  Uniao Estavel      26646.0   \n",
              "4      5324            1981          PhD      Casado(a)      58293.0   \n",
              "...     ...             ...          ...            ...          ...   \n",
              "2235  10870            1967    Graduacao      Casado(a)      61223.0   \n",
              "2236   4001            1946          PhD  Uniao Estavel      64014.0   \n",
              "2237   7270            1981    Graduacao  Divorciado(a)      56981.0   \n",
              "2238   8235            1956     Mestrado  Uniao Estavel      69245.0   \n",
              "2239   9405            1954          PhD      Casado(a)      52869.0   \n",
              "\n",
              "      n_criancas  n_adolescentes data_cadastro  n_dias_ult_compra  vinicolas  \\\n",
              "0              0               0    2012-09-04                 58        635   \n",
              "1              1               1    2014-03-08                 38         11   \n",
              "2              0               0    2013-08-21                 26        426   \n",
              "3              1               0    2014-02-10                 26         11   \n",
              "4              1               0    2014-01-19                 94        173   \n",
              "...          ...             ...           ...                ...        ...   \n",
              "2235           0               1    2013-06-13                 46        709   \n",
              "2236           2               1    2014-06-10                 56        406   \n",
              "2237           0               0    2014-01-25                 91        908   \n",
              "2238           0               1    2014-01-24                  8        428   \n",
              "2239           1               1    2012-10-15                 40         84   \n",
              "\n",
              "      ...  catalogo  loja_fisica  visitas_ult_mes  campanha3  campanha4  \\\n",
              "0     ...        10            4                7          0          0   \n",
              "1     ...         1            2                5          0          0   \n",
              "2     ...         2           10                4          0          0   \n",
              "3     ...         0            4                6          0          0   \n",
              "4     ...         3            6                5          0          0   \n",
              "...   ...       ...          ...              ...        ...        ...   \n",
              "2235  ...         3            4                5          0          0   \n",
              "2236  ...         2            5                7          0          0   \n",
              "2237  ...         3           13                6          0          1   \n",
              "2238  ...         5           10                3          0          0   \n",
              "2239  ...         1            4                7          0          0   \n",
              "\n",
              "      campanha5  campanha1  campanha2  reclamacoes  resposta  \n",
              "0             0          0          0            0         1  \n",
              "1             0          0          0            0         0  \n",
              "2             0          0          0            0         0  \n",
              "3             0          0          0            0         0  \n",
              "4             0          0          0            0         0  \n",
              "...         ...        ...        ...          ...       ...  \n",
              "2235          0          0          0            0         0  \n",
              "2236          0          1          0            0         0  \n",
              "2237          0          0          0            0         0  \n",
              "2238          0          0          0            0         0  \n",
              "2239          0          0          0            0         1  \n",
              "\n",
              "[2240 rows x 27 columns]"
            ],
            "text/html": [
              "\n",
              "  <div id=\"df-ae579e1f-6310-49fe-9c6a-b5e1374ef490\">\n",
              "    <div class=\"colab-df-container\">\n",
              "      <div>\n",
              "<style scoped>\n",
              "    .dataframe tbody tr th:only-of-type {\n",
              "        vertical-align: middle;\n",
              "    }\n",
              "\n",
              "    .dataframe tbody tr th {\n",
              "        vertical-align: top;\n",
              "    }\n",
              "\n",
              "    .dataframe thead th {\n",
              "        text-align: right;\n",
              "    }\n",
              "</style>\n",
              "<table border=\"1\" class=\"dataframe\">\n",
              "  <thead>\n",
              "    <tr style=\"text-align: right;\">\n",
              "      <th></th>\n",
              "      <th>id</th>\n",
              "      <th>ano_nascimento</th>\n",
              "      <th>escolaridade</th>\n",
              "      <th>estado_civil</th>\n",
              "      <th>renda_anual</th>\n",
              "      <th>n_criancas</th>\n",
              "      <th>n_adolescentes</th>\n",
              "      <th>data_cadastro</th>\n",
              "      <th>n_dias_ult_compra</th>\n",
              "      <th>vinicolas</th>\n",
              "      <th>...</th>\n",
              "      <th>catalogo</th>\n",
              "      <th>loja_fisica</th>\n",
              "      <th>visitas_ult_mes</th>\n",
              "      <th>campanha3</th>\n",
              "      <th>campanha4</th>\n",
              "      <th>campanha5</th>\n",
              "      <th>campanha1</th>\n",
              "      <th>campanha2</th>\n",
              "      <th>reclamacoes</th>\n",
              "      <th>resposta</th>\n",
              "    </tr>\n",
              "  </thead>\n",
              "  <tbody>\n",
              "    <tr>\n",
              "      <th>0</th>\n",
              "      <td>5524</td>\n",
              "      <td>1957</td>\n",
              "      <td>Graduacao</td>\n",
              "      <td>Solteiro(a)</td>\n",
              "      <td>58138.0</td>\n",
              "      <td>0</td>\n",
              "      <td>0</td>\n",
              "      <td>2012-09-04</td>\n",
              "      <td>58</td>\n",
              "      <td>635</td>\n",
              "      <td>...</td>\n",
              "      <td>10</td>\n",
              "      <td>4</td>\n",
              "      <td>7</td>\n",
              "      <td>0</td>\n",
              "      <td>0</td>\n",
              "      <td>0</td>\n",
              "      <td>0</td>\n",
              "      <td>0</td>\n",
              "      <td>0</td>\n",
              "      <td>1</td>\n",
              "    </tr>\n",
              "    <tr>\n",
              "      <th>1</th>\n",
              "      <td>2174</td>\n",
              "      <td>1954</td>\n",
              "      <td>Graduacao</td>\n",
              "      <td>Solteiro(a)</td>\n",
              "      <td>46344.0</td>\n",
              "      <td>1</td>\n",
              "      <td>1</td>\n",
              "      <td>2014-03-08</td>\n",
              "      <td>38</td>\n",
              "      <td>11</td>\n",
              "      <td>...</td>\n",
              "      <td>1</td>\n",
              "      <td>2</td>\n",
              "      <td>5</td>\n",
              "      <td>0</td>\n",
              "      <td>0</td>\n",
              "      <td>0</td>\n",
              "      <td>0</td>\n",
              "      <td>0</td>\n",
              "      <td>0</td>\n",
              "      <td>0</td>\n",
              "    </tr>\n",
              "    <tr>\n",
              "      <th>2</th>\n",
              "      <td>4141</td>\n",
              "      <td>1965</td>\n",
              "      <td>Graduacao</td>\n",
              "      <td>Uniao Estavel</td>\n",
              "      <td>71613.0</td>\n",
              "      <td>0</td>\n",
              "      <td>0</td>\n",
              "      <td>2013-08-21</td>\n",
              "      <td>26</td>\n",
              "      <td>426</td>\n",
              "      <td>...</td>\n",
              "      <td>2</td>\n",
              "      <td>10</td>\n",
              "      <td>4</td>\n",
              "      <td>0</td>\n",
              "      <td>0</td>\n",
              "      <td>0</td>\n",
              "      <td>0</td>\n",
              "      <td>0</td>\n",
              "      <td>0</td>\n",
              "      <td>0</td>\n",
              "    </tr>\n",
              "    <tr>\n",
              "      <th>3</th>\n",
              "      <td>6182</td>\n",
              "      <td>1984</td>\n",
              "      <td>Graduacao</td>\n",
              "      <td>Uniao Estavel</td>\n",
              "      <td>26646.0</td>\n",
              "      <td>1</td>\n",
              "      <td>0</td>\n",
              "      <td>2014-02-10</td>\n",
              "      <td>26</td>\n",
              "      <td>11</td>\n",
              "      <td>...</td>\n",
              "      <td>0</td>\n",
              "      <td>4</td>\n",
              "      <td>6</td>\n",
              "      <td>0</td>\n",
              "      <td>0</td>\n",
              "      <td>0</td>\n",
              "      <td>0</td>\n",
              "      <td>0</td>\n",
              "      <td>0</td>\n",
              "      <td>0</td>\n",
              "    </tr>\n",
              "    <tr>\n",
              "      <th>4</th>\n",
              "      <td>5324</td>\n",
              "      <td>1981</td>\n",
              "      <td>PhD</td>\n",
              "      <td>Casado(a)</td>\n",
              "      <td>58293.0</td>\n",
              "      <td>1</td>\n",
              "      <td>0</td>\n",
              "      <td>2014-01-19</td>\n",
              "      <td>94</td>\n",
              "      <td>173</td>\n",
              "      <td>...</td>\n",
              "      <td>3</td>\n",
              "      <td>6</td>\n",
              "      <td>5</td>\n",
              "      <td>0</td>\n",
              "      <td>0</td>\n",
              "      <td>0</td>\n",
              "      <td>0</td>\n",
              "      <td>0</td>\n",
              "      <td>0</td>\n",
              "      <td>0</td>\n",
              "    </tr>\n",
              "    <tr>\n",
              "      <th>...</th>\n",
              "      <td>...</td>\n",
              "      <td>...</td>\n",
              "      <td>...</td>\n",
              "      <td>...</td>\n",
              "      <td>...</td>\n",
              "      <td>...</td>\n",
              "      <td>...</td>\n",
              "      <td>...</td>\n",
              "      <td>...</td>\n",
              "      <td>...</td>\n",
              "      <td>...</td>\n",
              "      <td>...</td>\n",
              "      <td>...</td>\n",
              "      <td>...</td>\n",
              "      <td>...</td>\n",
              "      <td>...</td>\n",
              "      <td>...</td>\n",
              "      <td>...</td>\n",
              "      <td>...</td>\n",
              "      <td>...</td>\n",
              "      <td>...</td>\n",
              "    </tr>\n",
              "    <tr>\n",
              "      <th>2235</th>\n",
              "      <td>10870</td>\n",
              "      <td>1967</td>\n",
              "      <td>Graduacao</td>\n",
              "      <td>Casado(a)</td>\n",
              "      <td>61223.0</td>\n",
              "      <td>0</td>\n",
              "      <td>1</td>\n",
              "      <td>2013-06-13</td>\n",
              "      <td>46</td>\n",
              "      <td>709</td>\n",
              "      <td>...</td>\n",
              "      <td>3</td>\n",
              "      <td>4</td>\n",
              "      <td>5</td>\n",
              "      <td>0</td>\n",
              "      <td>0</td>\n",
              "      <td>0</td>\n",
              "      <td>0</td>\n",
              "      <td>0</td>\n",
              "      <td>0</td>\n",
              "      <td>0</td>\n",
              "    </tr>\n",
              "    <tr>\n",
              "      <th>2236</th>\n",
              "      <td>4001</td>\n",
              "      <td>1946</td>\n",
              "      <td>PhD</td>\n",
              "      <td>Uniao Estavel</td>\n",
              "      <td>64014.0</td>\n",
              "      <td>2</td>\n",
              "      <td>1</td>\n",
              "      <td>2014-06-10</td>\n",
              "      <td>56</td>\n",
              "      <td>406</td>\n",
              "      <td>...</td>\n",
              "      <td>2</td>\n",
              "      <td>5</td>\n",
              "      <td>7</td>\n",
              "      <td>0</td>\n",
              "      <td>0</td>\n",
              "      <td>0</td>\n",
              "      <td>1</td>\n",
              "      <td>0</td>\n",
              "      <td>0</td>\n",
              "      <td>0</td>\n",
              "    </tr>\n",
              "    <tr>\n",
              "      <th>2237</th>\n",
              "      <td>7270</td>\n",
              "      <td>1981</td>\n",
              "      <td>Graduacao</td>\n",
              "      <td>Divorciado(a)</td>\n",
              "      <td>56981.0</td>\n",
              "      <td>0</td>\n",
              "      <td>0</td>\n",
              "      <td>2014-01-25</td>\n",
              "      <td>91</td>\n",
              "      <td>908</td>\n",
              "      <td>...</td>\n",
              "      <td>3</td>\n",
              "      <td>13</td>\n",
              "      <td>6</td>\n",
              "      <td>0</td>\n",
              "      <td>1</td>\n",
              "      <td>0</td>\n",
              "      <td>0</td>\n",
              "      <td>0</td>\n",
              "      <td>0</td>\n",
              "      <td>0</td>\n",
              "    </tr>\n",
              "    <tr>\n",
              "      <th>2238</th>\n",
              "      <td>8235</td>\n",
              "      <td>1956</td>\n",
              "      <td>Mestrado</td>\n",
              "      <td>Uniao Estavel</td>\n",
              "      <td>69245.0</td>\n",
              "      <td>0</td>\n",
              "      <td>1</td>\n",
              "      <td>2014-01-24</td>\n",
              "      <td>8</td>\n",
              "      <td>428</td>\n",
              "      <td>...</td>\n",
              "      <td>5</td>\n",
              "      <td>10</td>\n",
              "      <td>3</td>\n",
              "      <td>0</td>\n",
              "      <td>0</td>\n",
              "      <td>0</td>\n",
              "      <td>0</td>\n",
              "      <td>0</td>\n",
              "      <td>0</td>\n",
              "      <td>0</td>\n",
              "    </tr>\n",
              "    <tr>\n",
              "      <th>2239</th>\n",
              "      <td>9405</td>\n",
              "      <td>1954</td>\n",
              "      <td>PhD</td>\n",
              "      <td>Casado(a)</td>\n",
              "      <td>52869.0</td>\n",
              "      <td>1</td>\n",
              "      <td>1</td>\n",
              "      <td>2012-10-15</td>\n",
              "      <td>40</td>\n",
              "      <td>84</td>\n",
              "      <td>...</td>\n",
              "      <td>1</td>\n",
              "      <td>4</td>\n",
              "      <td>7</td>\n",
              "      <td>0</td>\n",
              "      <td>0</td>\n",
              "      <td>0</td>\n",
              "      <td>0</td>\n",
              "      <td>0</td>\n",
              "      <td>0</td>\n",
              "      <td>1</td>\n",
              "    </tr>\n",
              "  </tbody>\n",
              "</table>\n",
              "<p>2240 rows × 27 columns</p>\n",
              "</div>\n",
              "      <button class=\"colab-df-convert\" onclick=\"convertToInteractive('df-ae579e1f-6310-49fe-9c6a-b5e1374ef490')\"\n",
              "              title=\"Convert this dataframe to an interactive table.\"\n",
              "              style=\"display:none;\">\n",
              "        \n",
              "  <svg xmlns=\"http://www.w3.org/2000/svg\" height=\"24px\"viewBox=\"0 0 24 24\"\n",
              "       width=\"24px\">\n",
              "    <path d=\"M0 0h24v24H0V0z\" fill=\"none\"/>\n",
              "    <path d=\"M18.56 5.44l.94 2.06.94-2.06 2.06-.94-2.06-.94-.94-2.06-.94 2.06-2.06.94zm-11 1L8.5 8.5l.94-2.06 2.06-.94-2.06-.94L8.5 2.5l-.94 2.06-2.06.94zm10 10l.94 2.06.94-2.06 2.06-.94-2.06-.94-.94-2.06-.94 2.06-2.06.94z\"/><path d=\"M17.41 7.96l-1.37-1.37c-.4-.4-.92-.59-1.43-.59-.52 0-1.04.2-1.43.59L10.3 9.45l-7.72 7.72c-.78.78-.78 2.05 0 2.83L4 21.41c.39.39.9.59 1.41.59.51 0 1.02-.2 1.41-.59l7.78-7.78 2.81-2.81c.8-.78.8-2.07 0-2.86zM5.41 20L4 18.59l7.72-7.72 1.47 1.35L5.41 20z\"/>\n",
              "  </svg>\n",
              "      </button>\n",
              "      \n",
              "  <style>\n",
              "    .colab-df-container {\n",
              "      display:flex;\n",
              "      flex-wrap:wrap;\n",
              "      gap: 12px;\n",
              "    }\n",
              "\n",
              "    .colab-df-convert {\n",
              "      background-color: #E8F0FE;\n",
              "      border: none;\n",
              "      border-radius: 50%;\n",
              "      cursor: pointer;\n",
              "      display: none;\n",
              "      fill: #1967D2;\n",
              "      height: 32px;\n",
              "      padding: 0 0 0 0;\n",
              "      width: 32px;\n",
              "    }\n",
              "\n",
              "    .colab-df-convert:hover {\n",
              "      background-color: #E2EBFA;\n",
              "      box-shadow: 0px 1px 2px rgba(60, 64, 67, 0.3), 0px 1px 3px 1px rgba(60, 64, 67, 0.15);\n",
              "      fill: #174EA6;\n",
              "    }\n",
              "\n",
              "    [theme=dark] .colab-df-convert {\n",
              "      background-color: #3B4455;\n",
              "      fill: #D2E3FC;\n",
              "    }\n",
              "\n",
              "    [theme=dark] .colab-df-convert:hover {\n",
              "      background-color: #434B5C;\n",
              "      box-shadow: 0px 1px 3px 1px rgba(0, 0, 0, 0.15);\n",
              "      filter: drop-shadow(0px 1px 2px rgba(0, 0, 0, 0.3));\n",
              "      fill: #FFFFFF;\n",
              "    }\n",
              "  </style>\n",
              "\n",
              "      <script>\n",
              "        const buttonEl =\n",
              "          document.querySelector('#df-ae579e1f-6310-49fe-9c6a-b5e1374ef490 button.colab-df-convert');\n",
              "        buttonEl.style.display =\n",
              "          google.colab.kernel.accessAllowed ? 'block' : 'none';\n",
              "\n",
              "        async function convertToInteractive(key) {\n",
              "          const element = document.querySelector('#df-ae579e1f-6310-49fe-9c6a-b5e1374ef490');\n",
              "          const dataTable =\n",
              "            await google.colab.kernel.invokeFunction('convertToInteractive',\n",
              "                                                     [key], {});\n",
              "          if (!dataTable) return;\n",
              "\n",
              "          const docLinkHtml = 'Like what you see? Visit the ' +\n",
              "            '<a target=\"_blank\" href=https://colab.research.google.com/notebooks/data_table.ipynb>data table notebook</a>'\n",
              "            + ' to learn more about interactive tables.';\n",
              "          element.innerHTML = '';\n",
              "          dataTable['output_type'] = 'display_data';\n",
              "          await google.colab.output.renderOutput(dataTable, element);\n",
              "          const docLink = document.createElement('div');\n",
              "          docLink.innerHTML = docLinkHtml;\n",
              "          element.appendChild(docLink);\n",
              "        }\n",
              "      </script>\n",
              "    </div>\n",
              "  </div>\n",
              "  "
            ]
          },
          "metadata": {},
          "execution_count": 43
        }
      ],
      "source": [
        "schema.validate(df)"
      ]
    },
    {
      "cell_type": "code",
      "execution_count": null,
      "metadata": {
        "id": "mnJ2P2TDxKql",
        "colab": {
          "base_uri": "https://localhost:8080/"
        },
        "outputId": "077ed226-0891-40a2-f55e-22dc610a26f5"
      },
      "outputs": [
        {
          "output_type": "execute_result",
          "data": {
            "text/plain": [
              "Index(['id', 'ano_nascimento', 'escolaridade', 'estado_civil', 'renda_anual',\n",
              "       'n_criancas', 'n_adolescentes', 'data_cadastro', 'n_dias_ult_compra',\n",
              "       'vinicolas', 'frutas', 'carne', 'peixe', 'doces', 'produtos_ouro',\n",
              "       'oferta_compra', 'compras_site', 'catalogo', 'loja_fisica',\n",
              "       'visitas_ult_mes', 'campanha3', 'campanha4', 'campanha5', 'campanha1',\n",
              "       'campanha2', 'reclamacoes', 'resposta'],\n",
              "      dtype='object')"
            ]
          },
          "metadata": {},
          "execution_count": 44
        }
      ],
      "source": [
        "df.columns"
      ]
    },
    {
      "cell_type": "markdown",
      "metadata": {
        "id": "bd0eywGAMpt0"
      },
      "source": [
        "# Análises"
      ]
    },
    {
      "cell_type": "markdown",
      "metadata": {
        "id": "-TJo93aQiFiE"
      },
      "source": [
        "Realizar no mínimo 3 análises apenas numéricas e fazer pelo menos 4 plotagens\n"
      ]
    },
    {
      "cell_type": "markdown",
      "source": [
        "###Análises Gerais"
      ],
      "metadata": {
        "id": "dAAUkxiCt0Pq"
      }
    },
    {
      "cell_type": "code",
      "execution_count": null,
      "metadata": {
        "id": "p1cdtyhciN5K",
        "colab": {
          "base_uri": "https://localhost:8080/"
        },
        "outputId": "5158049f-0818-4c60-bf07-47ee2b0084f6"
      },
      "outputs": [
        {
          "output_type": "execute_result",
          "data": {
            "text/plain": [
              "                 id  ano_nascimento    renda_anual   n_criancas  \\\n",
              "count   2240.000000     2240.000000    2216.000000  2240.000000   \n",
              "mean    5592.159821     1968.805804   52247.251354     0.444196   \n",
              "std     3246.662198       11.984069   25173.076661     0.538398   \n",
              "min        0.000000     1893.000000    1730.000000     0.000000   \n",
              "25%     2828.250000     1959.000000   35303.000000     0.000000   \n",
              "50%     5458.500000     1970.000000   51381.500000     0.000000   \n",
              "75%     8427.750000     1977.000000   68522.000000     1.000000   \n",
              "max    11191.000000     1996.000000  666666.000000     2.000000   \n",
              "\n",
              "       n_adolescentes  n_dias_ult_compra    vinicolas       frutas  \\\n",
              "count     2240.000000        2240.000000  2240.000000  2240.000000   \n",
              "mean         0.506250          49.109375   303.935714    26.302232   \n",
              "std          0.544538          28.962453   336.597393    39.773434   \n",
              "min          0.000000           0.000000     0.000000     0.000000   \n",
              "25%          0.000000          24.000000    23.750000     1.000000   \n",
              "50%          0.000000          49.000000   173.500000     8.000000   \n",
              "75%          1.000000          74.000000   504.250000    33.000000   \n",
              "max          2.000000          99.000000  1493.000000   199.000000   \n",
              "\n",
              "             carne        peixe  ...     catalogo  loja_fisica  \\\n",
              "count  2240.000000  2240.000000  ...  2240.000000  2240.000000   \n",
              "mean    166.950000    37.525446  ...     2.662054     5.790179   \n",
              "std     225.715373    54.628979  ...     2.923101     3.250958   \n",
              "min       0.000000     0.000000  ...     0.000000     0.000000   \n",
              "25%      16.000000     3.000000  ...     0.000000     3.000000   \n",
              "50%      67.000000    12.000000  ...     2.000000     5.000000   \n",
              "75%     232.000000    50.000000  ...     4.000000     8.000000   \n",
              "max    1725.000000   259.000000  ...    28.000000    13.000000   \n",
              "\n",
              "       visitas_ult_mes    campanha3    campanha4    campanha5    campanha1  \\\n",
              "count      2240.000000  2240.000000  2240.000000  2240.000000  2240.000000   \n",
              "mean          5.316518     0.072768     0.074554     0.072768     0.064286   \n",
              "std           2.426645     0.259813     0.262728     0.259813     0.245316   \n",
              "min           0.000000     0.000000     0.000000     0.000000     0.000000   \n",
              "25%           3.000000     0.000000     0.000000     0.000000     0.000000   \n",
              "50%           6.000000     0.000000     0.000000     0.000000     0.000000   \n",
              "75%           7.000000     0.000000     0.000000     0.000000     0.000000   \n",
              "max          20.000000     1.000000     1.000000     1.000000     1.000000   \n",
              "\n",
              "         campanha2  reclamacoes     resposta  \n",
              "count  2240.000000  2240.000000  2240.000000  \n",
              "mean      0.013393     0.009375     0.149107  \n",
              "std       0.114976     0.096391     0.356274  \n",
              "min       0.000000     0.000000     0.000000  \n",
              "25%       0.000000     0.000000     0.000000  \n",
              "50%       0.000000     0.000000     0.000000  \n",
              "75%       0.000000     0.000000     0.000000  \n",
              "max       1.000000     1.000000     1.000000  \n",
              "\n",
              "[8 rows x 24 columns]"
            ],
            "text/html": [
              "\n",
              "  <div id=\"df-400cad1c-dbb4-4bfe-b6d7-f15943a5061f\">\n",
              "    <div class=\"colab-df-container\">\n",
              "      <div>\n",
              "<style scoped>\n",
              "    .dataframe tbody tr th:only-of-type {\n",
              "        vertical-align: middle;\n",
              "    }\n",
              "\n",
              "    .dataframe tbody tr th {\n",
              "        vertical-align: top;\n",
              "    }\n",
              "\n",
              "    .dataframe thead th {\n",
              "        text-align: right;\n",
              "    }\n",
              "</style>\n",
              "<table border=\"1\" class=\"dataframe\">\n",
              "  <thead>\n",
              "    <tr style=\"text-align: right;\">\n",
              "      <th></th>\n",
              "      <th>id</th>\n",
              "      <th>ano_nascimento</th>\n",
              "      <th>renda_anual</th>\n",
              "      <th>n_criancas</th>\n",
              "      <th>n_adolescentes</th>\n",
              "      <th>n_dias_ult_compra</th>\n",
              "      <th>vinicolas</th>\n",
              "      <th>frutas</th>\n",
              "      <th>carne</th>\n",
              "      <th>peixe</th>\n",
              "      <th>...</th>\n",
              "      <th>catalogo</th>\n",
              "      <th>loja_fisica</th>\n",
              "      <th>visitas_ult_mes</th>\n",
              "      <th>campanha3</th>\n",
              "      <th>campanha4</th>\n",
              "      <th>campanha5</th>\n",
              "      <th>campanha1</th>\n",
              "      <th>campanha2</th>\n",
              "      <th>reclamacoes</th>\n",
              "      <th>resposta</th>\n",
              "    </tr>\n",
              "  </thead>\n",
              "  <tbody>\n",
              "    <tr>\n",
              "      <th>count</th>\n",
              "      <td>2240.000000</td>\n",
              "      <td>2240.000000</td>\n",
              "      <td>2216.000000</td>\n",
              "      <td>2240.000000</td>\n",
              "      <td>2240.000000</td>\n",
              "      <td>2240.000000</td>\n",
              "      <td>2240.000000</td>\n",
              "      <td>2240.000000</td>\n",
              "      <td>2240.000000</td>\n",
              "      <td>2240.000000</td>\n",
              "      <td>...</td>\n",
              "      <td>2240.000000</td>\n",
              "      <td>2240.000000</td>\n",
              "      <td>2240.000000</td>\n",
              "      <td>2240.000000</td>\n",
              "      <td>2240.000000</td>\n",
              "      <td>2240.000000</td>\n",
              "      <td>2240.000000</td>\n",
              "      <td>2240.000000</td>\n",
              "      <td>2240.000000</td>\n",
              "      <td>2240.000000</td>\n",
              "    </tr>\n",
              "    <tr>\n",
              "      <th>mean</th>\n",
              "      <td>5592.159821</td>\n",
              "      <td>1968.805804</td>\n",
              "      <td>52247.251354</td>\n",
              "      <td>0.444196</td>\n",
              "      <td>0.506250</td>\n",
              "      <td>49.109375</td>\n",
              "      <td>303.935714</td>\n",
              "      <td>26.302232</td>\n",
              "      <td>166.950000</td>\n",
              "      <td>37.525446</td>\n",
              "      <td>...</td>\n",
              "      <td>2.662054</td>\n",
              "      <td>5.790179</td>\n",
              "      <td>5.316518</td>\n",
              "      <td>0.072768</td>\n",
              "      <td>0.074554</td>\n",
              "      <td>0.072768</td>\n",
              "      <td>0.064286</td>\n",
              "      <td>0.013393</td>\n",
              "      <td>0.009375</td>\n",
              "      <td>0.149107</td>\n",
              "    </tr>\n",
              "    <tr>\n",
              "      <th>std</th>\n",
              "      <td>3246.662198</td>\n",
              "      <td>11.984069</td>\n",
              "      <td>25173.076661</td>\n",
              "      <td>0.538398</td>\n",
              "      <td>0.544538</td>\n",
              "      <td>28.962453</td>\n",
              "      <td>336.597393</td>\n",
              "      <td>39.773434</td>\n",
              "      <td>225.715373</td>\n",
              "      <td>54.628979</td>\n",
              "      <td>...</td>\n",
              "      <td>2.923101</td>\n",
              "      <td>3.250958</td>\n",
              "      <td>2.426645</td>\n",
              "      <td>0.259813</td>\n",
              "      <td>0.262728</td>\n",
              "      <td>0.259813</td>\n",
              "      <td>0.245316</td>\n",
              "      <td>0.114976</td>\n",
              "      <td>0.096391</td>\n",
              "      <td>0.356274</td>\n",
              "    </tr>\n",
              "    <tr>\n",
              "      <th>min</th>\n",
              "      <td>0.000000</td>\n",
              "      <td>1893.000000</td>\n",
              "      <td>1730.000000</td>\n",
              "      <td>0.000000</td>\n",
              "      <td>0.000000</td>\n",
              "      <td>0.000000</td>\n",
              "      <td>0.000000</td>\n",
              "      <td>0.000000</td>\n",
              "      <td>0.000000</td>\n",
              "      <td>0.000000</td>\n",
              "      <td>...</td>\n",
              "      <td>0.000000</td>\n",
              "      <td>0.000000</td>\n",
              "      <td>0.000000</td>\n",
              "      <td>0.000000</td>\n",
              "      <td>0.000000</td>\n",
              "      <td>0.000000</td>\n",
              "      <td>0.000000</td>\n",
              "      <td>0.000000</td>\n",
              "      <td>0.000000</td>\n",
              "      <td>0.000000</td>\n",
              "    </tr>\n",
              "    <tr>\n",
              "      <th>25%</th>\n",
              "      <td>2828.250000</td>\n",
              "      <td>1959.000000</td>\n",
              "      <td>35303.000000</td>\n",
              "      <td>0.000000</td>\n",
              "      <td>0.000000</td>\n",
              "      <td>24.000000</td>\n",
              "      <td>23.750000</td>\n",
              "      <td>1.000000</td>\n",
              "      <td>16.000000</td>\n",
              "      <td>3.000000</td>\n",
              "      <td>...</td>\n",
              "      <td>0.000000</td>\n",
              "      <td>3.000000</td>\n",
              "      <td>3.000000</td>\n",
              "      <td>0.000000</td>\n",
              "      <td>0.000000</td>\n",
              "      <td>0.000000</td>\n",
              "      <td>0.000000</td>\n",
              "      <td>0.000000</td>\n",
              "      <td>0.000000</td>\n",
              "      <td>0.000000</td>\n",
              "    </tr>\n",
              "    <tr>\n",
              "      <th>50%</th>\n",
              "      <td>5458.500000</td>\n",
              "      <td>1970.000000</td>\n",
              "      <td>51381.500000</td>\n",
              "      <td>0.000000</td>\n",
              "      <td>0.000000</td>\n",
              "      <td>49.000000</td>\n",
              "      <td>173.500000</td>\n",
              "      <td>8.000000</td>\n",
              "      <td>67.000000</td>\n",
              "      <td>12.000000</td>\n",
              "      <td>...</td>\n",
              "      <td>2.000000</td>\n",
              "      <td>5.000000</td>\n",
              "      <td>6.000000</td>\n",
              "      <td>0.000000</td>\n",
              "      <td>0.000000</td>\n",
              "      <td>0.000000</td>\n",
              "      <td>0.000000</td>\n",
              "      <td>0.000000</td>\n",
              "      <td>0.000000</td>\n",
              "      <td>0.000000</td>\n",
              "    </tr>\n",
              "    <tr>\n",
              "      <th>75%</th>\n",
              "      <td>8427.750000</td>\n",
              "      <td>1977.000000</td>\n",
              "      <td>68522.000000</td>\n",
              "      <td>1.000000</td>\n",
              "      <td>1.000000</td>\n",
              "      <td>74.000000</td>\n",
              "      <td>504.250000</td>\n",
              "      <td>33.000000</td>\n",
              "      <td>232.000000</td>\n",
              "      <td>50.000000</td>\n",
              "      <td>...</td>\n",
              "      <td>4.000000</td>\n",
              "      <td>8.000000</td>\n",
              "      <td>7.000000</td>\n",
              "      <td>0.000000</td>\n",
              "      <td>0.000000</td>\n",
              "      <td>0.000000</td>\n",
              "      <td>0.000000</td>\n",
              "      <td>0.000000</td>\n",
              "      <td>0.000000</td>\n",
              "      <td>0.000000</td>\n",
              "    </tr>\n",
              "    <tr>\n",
              "      <th>max</th>\n",
              "      <td>11191.000000</td>\n",
              "      <td>1996.000000</td>\n",
              "      <td>666666.000000</td>\n",
              "      <td>2.000000</td>\n",
              "      <td>2.000000</td>\n",
              "      <td>99.000000</td>\n",
              "      <td>1493.000000</td>\n",
              "      <td>199.000000</td>\n",
              "      <td>1725.000000</td>\n",
              "      <td>259.000000</td>\n",
              "      <td>...</td>\n",
              "      <td>28.000000</td>\n",
              "      <td>13.000000</td>\n",
              "      <td>20.000000</td>\n",
              "      <td>1.000000</td>\n",
              "      <td>1.000000</td>\n",
              "      <td>1.000000</td>\n",
              "      <td>1.000000</td>\n",
              "      <td>1.000000</td>\n",
              "      <td>1.000000</td>\n",
              "      <td>1.000000</td>\n",
              "    </tr>\n",
              "  </tbody>\n",
              "</table>\n",
              "<p>8 rows × 24 columns</p>\n",
              "</div>\n",
              "      <button class=\"colab-df-convert\" onclick=\"convertToInteractive('df-400cad1c-dbb4-4bfe-b6d7-f15943a5061f')\"\n",
              "              title=\"Convert this dataframe to an interactive table.\"\n",
              "              style=\"display:none;\">\n",
              "        \n",
              "  <svg xmlns=\"http://www.w3.org/2000/svg\" height=\"24px\"viewBox=\"0 0 24 24\"\n",
              "       width=\"24px\">\n",
              "    <path d=\"M0 0h24v24H0V0z\" fill=\"none\"/>\n",
              "    <path d=\"M18.56 5.44l.94 2.06.94-2.06 2.06-.94-2.06-.94-.94-2.06-.94 2.06-2.06.94zm-11 1L8.5 8.5l.94-2.06 2.06-.94-2.06-.94L8.5 2.5l-.94 2.06-2.06.94zm10 10l.94 2.06.94-2.06 2.06-.94-2.06-.94-.94-2.06-.94 2.06-2.06.94z\"/><path d=\"M17.41 7.96l-1.37-1.37c-.4-.4-.92-.59-1.43-.59-.52 0-1.04.2-1.43.59L10.3 9.45l-7.72 7.72c-.78.78-.78 2.05 0 2.83L4 21.41c.39.39.9.59 1.41.59.51 0 1.02-.2 1.41-.59l7.78-7.78 2.81-2.81c.8-.78.8-2.07 0-2.86zM5.41 20L4 18.59l7.72-7.72 1.47 1.35L5.41 20z\"/>\n",
              "  </svg>\n",
              "      </button>\n",
              "      \n",
              "  <style>\n",
              "    .colab-df-container {\n",
              "      display:flex;\n",
              "      flex-wrap:wrap;\n",
              "      gap: 12px;\n",
              "    }\n",
              "\n",
              "    .colab-df-convert {\n",
              "      background-color: #E8F0FE;\n",
              "      border: none;\n",
              "      border-radius: 50%;\n",
              "      cursor: pointer;\n",
              "      display: none;\n",
              "      fill: #1967D2;\n",
              "      height: 32px;\n",
              "      padding: 0 0 0 0;\n",
              "      width: 32px;\n",
              "    }\n",
              "\n",
              "    .colab-df-convert:hover {\n",
              "      background-color: #E2EBFA;\n",
              "      box-shadow: 0px 1px 2px rgba(60, 64, 67, 0.3), 0px 1px 3px 1px rgba(60, 64, 67, 0.15);\n",
              "      fill: #174EA6;\n",
              "    }\n",
              "\n",
              "    [theme=dark] .colab-df-convert {\n",
              "      background-color: #3B4455;\n",
              "      fill: #D2E3FC;\n",
              "    }\n",
              "\n",
              "    [theme=dark] .colab-df-convert:hover {\n",
              "      background-color: #434B5C;\n",
              "      box-shadow: 0px 1px 3px 1px rgba(0, 0, 0, 0.15);\n",
              "      filter: drop-shadow(0px 1px 2px rgba(0, 0, 0, 0.3));\n",
              "      fill: #FFFFFF;\n",
              "    }\n",
              "  </style>\n",
              "\n",
              "      <script>\n",
              "        const buttonEl =\n",
              "          document.querySelector('#df-400cad1c-dbb4-4bfe-b6d7-f15943a5061f button.colab-df-convert');\n",
              "        buttonEl.style.display =\n",
              "          google.colab.kernel.accessAllowed ? 'block' : 'none';\n",
              "\n",
              "        async function convertToInteractive(key) {\n",
              "          const element = document.querySelector('#df-400cad1c-dbb4-4bfe-b6d7-f15943a5061f');\n",
              "          const dataTable =\n",
              "            await google.colab.kernel.invokeFunction('convertToInteractive',\n",
              "                                                     [key], {});\n",
              "          if (!dataTable) return;\n",
              "\n",
              "          const docLinkHtml = 'Like what you see? Visit the ' +\n",
              "            '<a target=\"_blank\" href=https://colab.research.google.com/notebooks/data_table.ipynb>data table notebook</a>'\n",
              "            + ' to learn more about interactive tables.';\n",
              "          element.innerHTML = '';\n",
              "          dataTable['output_type'] = 'display_data';\n",
              "          await google.colab.output.renderOutput(dataTable, element);\n",
              "          const docLink = document.createElement('div');\n",
              "          docLink.innerHTML = docLinkHtml;\n",
              "          element.appendChild(docLink);\n",
              "        }\n",
              "      </script>\n",
              "    </div>\n",
              "  </div>\n",
              "  "
            ]
          },
          "metadata": {},
          "execution_count": 45
        }
      ],
      "source": [
        "# Usando o método \".describe\" para fazer uma análise geral rápida\n",
        "df.describe()"
      ]
    },
    {
      "cell_type": "markdown",
      "source": [
        "Na tabela acima é possível perceber que os clientes passaram, em média, 59 dias sem fazer compras na loja, para aumentar a média as campanhas devem ser voltadas para clientes que passaram mais tempo sem fazer compras, por exemplo, aos que não compram a mais de 40 dias, ou os que vão menos de 3 vezes em 2 meses."
      ],
      "metadata": {
        "id": "4FY2walYsfCi"
      }
    },
    {
      "cell_type": "code",
      "execution_count": null,
      "metadata": {
        "id": "fJ2WxRt7MQMO",
        "colab": {
          "base_uri": "https://localhost:8080/"
        },
        "outputId": "feda53a6-97e2-4299-f4c0-f00fe9dbbaeb"
      },
      "outputs": [
        {
          "output_type": "stream",
          "name": "stderr",
          "text": [
            "<ipython-input-46-5f8578835765>:2: FutureWarning: Indexing with multiple keys (implicitly converted to a tuple of keys) will be deprecated, use a list instead.\n",
            "  df.groupby('estado_civil')['vinicolas','frutas','carne','peixe', 'doces','produtos_ouro', ].mean().sort_values(by='produtos_ouro', ascending=False)\n"
          ]
        },
        {
          "output_type": "execute_result",
          "data": {
            "text/plain": [
              "                vinicolas     frutas       carne       peixe      doces  \\\n",
              "estado_civil                                                              \n",
              "Absurd         355.500000  84.500000  312.500000  205.500000  30.500000   \n",
              "Viuvo(a)       369.272727  33.090909  189.285714   51.389610  39.012987   \n",
              "Divorciado(a)  324.844828  27.426724  150.206897   35.043103  26.818966   \n",
              "Solteiro(a)    288.331250  26.835417  182.108333   38.216667  27.262500   \n",
              "Uniao Estavel  306.825862  25.350000  168.103448   38.991379  26.122414   \n",
              "Casado(a)      299.480324  25.734954  160.681713   35.380787  26.701389   \n",
              "YOLO           322.000000   3.000000   50.000000    4.000000   3.000000   \n",
              "Sozinho        184.666667   4.000000   26.333333    7.666667   7.000000   \n",
              "\n",
              "               produtos_ouro  \n",
              "estado_civil                  \n",
              "Absurd            204.000000  \n",
              "Viuvo(a)           56.766234  \n",
              "Divorciado(a)      46.288793  \n",
              "Solteiro(a)        43.729167  \n",
              "Uniao Estavel      42.994828  \n",
              "Casado(a)          42.822917  \n",
              "YOLO               42.000000  \n",
              "Sozinho            27.000000  "
            ],
            "text/html": [
              "\n",
              "  <div id=\"df-f63c50f1-5bf2-4bf0-b0ac-1ffd136d2233\">\n",
              "    <div class=\"colab-df-container\">\n",
              "      <div>\n",
              "<style scoped>\n",
              "    .dataframe tbody tr th:only-of-type {\n",
              "        vertical-align: middle;\n",
              "    }\n",
              "\n",
              "    .dataframe tbody tr th {\n",
              "        vertical-align: top;\n",
              "    }\n",
              "\n",
              "    .dataframe thead th {\n",
              "        text-align: right;\n",
              "    }\n",
              "</style>\n",
              "<table border=\"1\" class=\"dataframe\">\n",
              "  <thead>\n",
              "    <tr style=\"text-align: right;\">\n",
              "      <th></th>\n",
              "      <th>vinicolas</th>\n",
              "      <th>frutas</th>\n",
              "      <th>carne</th>\n",
              "      <th>peixe</th>\n",
              "      <th>doces</th>\n",
              "      <th>produtos_ouro</th>\n",
              "    </tr>\n",
              "    <tr>\n",
              "      <th>estado_civil</th>\n",
              "      <th></th>\n",
              "      <th></th>\n",
              "      <th></th>\n",
              "      <th></th>\n",
              "      <th></th>\n",
              "      <th></th>\n",
              "    </tr>\n",
              "  </thead>\n",
              "  <tbody>\n",
              "    <tr>\n",
              "      <th>Absurd</th>\n",
              "      <td>355.500000</td>\n",
              "      <td>84.500000</td>\n",
              "      <td>312.500000</td>\n",
              "      <td>205.500000</td>\n",
              "      <td>30.500000</td>\n",
              "      <td>204.000000</td>\n",
              "    </tr>\n",
              "    <tr>\n",
              "      <th>Viuvo(a)</th>\n",
              "      <td>369.272727</td>\n",
              "      <td>33.090909</td>\n",
              "      <td>189.285714</td>\n",
              "      <td>51.389610</td>\n",
              "      <td>39.012987</td>\n",
              "      <td>56.766234</td>\n",
              "    </tr>\n",
              "    <tr>\n",
              "      <th>Divorciado(a)</th>\n",
              "      <td>324.844828</td>\n",
              "      <td>27.426724</td>\n",
              "      <td>150.206897</td>\n",
              "      <td>35.043103</td>\n",
              "      <td>26.818966</td>\n",
              "      <td>46.288793</td>\n",
              "    </tr>\n",
              "    <tr>\n",
              "      <th>Solteiro(a)</th>\n",
              "      <td>288.331250</td>\n",
              "      <td>26.835417</td>\n",
              "      <td>182.108333</td>\n",
              "      <td>38.216667</td>\n",
              "      <td>27.262500</td>\n",
              "      <td>43.729167</td>\n",
              "    </tr>\n",
              "    <tr>\n",
              "      <th>Uniao Estavel</th>\n",
              "      <td>306.825862</td>\n",
              "      <td>25.350000</td>\n",
              "      <td>168.103448</td>\n",
              "      <td>38.991379</td>\n",
              "      <td>26.122414</td>\n",
              "      <td>42.994828</td>\n",
              "    </tr>\n",
              "    <tr>\n",
              "      <th>Casado(a)</th>\n",
              "      <td>299.480324</td>\n",
              "      <td>25.734954</td>\n",
              "      <td>160.681713</td>\n",
              "      <td>35.380787</td>\n",
              "      <td>26.701389</td>\n",
              "      <td>42.822917</td>\n",
              "    </tr>\n",
              "    <tr>\n",
              "      <th>YOLO</th>\n",
              "      <td>322.000000</td>\n",
              "      <td>3.000000</td>\n",
              "      <td>50.000000</td>\n",
              "      <td>4.000000</td>\n",
              "      <td>3.000000</td>\n",
              "      <td>42.000000</td>\n",
              "    </tr>\n",
              "    <tr>\n",
              "      <th>Sozinho</th>\n",
              "      <td>184.666667</td>\n",
              "      <td>4.000000</td>\n",
              "      <td>26.333333</td>\n",
              "      <td>7.666667</td>\n",
              "      <td>7.000000</td>\n",
              "      <td>27.000000</td>\n",
              "    </tr>\n",
              "  </tbody>\n",
              "</table>\n",
              "</div>\n",
              "      <button class=\"colab-df-convert\" onclick=\"convertToInteractive('df-f63c50f1-5bf2-4bf0-b0ac-1ffd136d2233')\"\n",
              "              title=\"Convert this dataframe to an interactive table.\"\n",
              "              style=\"display:none;\">\n",
              "        \n",
              "  <svg xmlns=\"http://www.w3.org/2000/svg\" height=\"24px\"viewBox=\"0 0 24 24\"\n",
              "       width=\"24px\">\n",
              "    <path d=\"M0 0h24v24H0V0z\" fill=\"none\"/>\n",
              "    <path d=\"M18.56 5.44l.94 2.06.94-2.06 2.06-.94-2.06-.94-.94-2.06-.94 2.06-2.06.94zm-11 1L8.5 8.5l.94-2.06 2.06-.94-2.06-.94L8.5 2.5l-.94 2.06-2.06.94zm10 10l.94 2.06.94-2.06 2.06-.94-2.06-.94-.94-2.06-.94 2.06-2.06.94z\"/><path d=\"M17.41 7.96l-1.37-1.37c-.4-.4-.92-.59-1.43-.59-.52 0-1.04.2-1.43.59L10.3 9.45l-7.72 7.72c-.78.78-.78 2.05 0 2.83L4 21.41c.39.39.9.59 1.41.59.51 0 1.02-.2 1.41-.59l7.78-7.78 2.81-2.81c.8-.78.8-2.07 0-2.86zM5.41 20L4 18.59l7.72-7.72 1.47 1.35L5.41 20z\"/>\n",
              "  </svg>\n",
              "      </button>\n",
              "      \n",
              "  <style>\n",
              "    .colab-df-container {\n",
              "      display:flex;\n",
              "      flex-wrap:wrap;\n",
              "      gap: 12px;\n",
              "    }\n",
              "\n",
              "    .colab-df-convert {\n",
              "      background-color: #E8F0FE;\n",
              "      border: none;\n",
              "      border-radius: 50%;\n",
              "      cursor: pointer;\n",
              "      display: none;\n",
              "      fill: #1967D2;\n",
              "      height: 32px;\n",
              "      padding: 0 0 0 0;\n",
              "      width: 32px;\n",
              "    }\n",
              "\n",
              "    .colab-df-convert:hover {\n",
              "      background-color: #E2EBFA;\n",
              "      box-shadow: 0px 1px 2px rgba(60, 64, 67, 0.3), 0px 1px 3px 1px rgba(60, 64, 67, 0.15);\n",
              "      fill: #174EA6;\n",
              "    }\n",
              "\n",
              "    [theme=dark] .colab-df-convert {\n",
              "      background-color: #3B4455;\n",
              "      fill: #D2E3FC;\n",
              "    }\n",
              "\n",
              "    [theme=dark] .colab-df-convert:hover {\n",
              "      background-color: #434B5C;\n",
              "      box-shadow: 0px 1px 3px 1px rgba(0, 0, 0, 0.15);\n",
              "      filter: drop-shadow(0px 1px 2px rgba(0, 0, 0, 0.3));\n",
              "      fill: #FFFFFF;\n",
              "    }\n",
              "  </style>\n",
              "\n",
              "      <script>\n",
              "        const buttonEl =\n",
              "          document.querySelector('#df-f63c50f1-5bf2-4bf0-b0ac-1ffd136d2233 button.colab-df-convert');\n",
              "        buttonEl.style.display =\n",
              "          google.colab.kernel.accessAllowed ? 'block' : 'none';\n",
              "\n",
              "        async function convertToInteractive(key) {\n",
              "          const element = document.querySelector('#df-f63c50f1-5bf2-4bf0-b0ac-1ffd136d2233');\n",
              "          const dataTable =\n",
              "            await google.colab.kernel.invokeFunction('convertToInteractive',\n",
              "                                                     [key], {});\n",
              "          if (!dataTable) return;\n",
              "\n",
              "          const docLinkHtml = 'Like what you see? Visit the ' +\n",
              "            '<a target=\"_blank\" href=https://colab.research.google.com/notebooks/data_table.ipynb>data table notebook</a>'\n",
              "            + ' to learn more about interactive tables.';\n",
              "          element.innerHTML = '';\n",
              "          dataTable['output_type'] = 'display_data';\n",
              "          await google.colab.output.renderOutput(dataTable, element);\n",
              "          const docLink = document.createElement('div');\n",
              "          docLink.innerHTML = docLinkHtml;\n",
              "          element.appendChild(docLink);\n",
              "        }\n",
              "      </script>\n",
              "    </div>\n",
              "  </div>\n",
              "  "
            ]
          },
          "metadata": {},
          "execution_count": 46
        }
      ],
      "source": [
        "#Verificando a média de gastos com os produtos listados  em relação ao estado civil\n",
        "df.groupby('estado_civil')['vinicolas','frutas','carne','peixe', 'doces','produtos_ouro', ].mean().sort_values(by='produtos_ouro', ascending=False)"
      ]
    },
    {
      "cell_type": "markdown",
      "source": [
        "A tabela acima mostra o gasto médio por estado civil, nos ultimos dois anos, nos produtos derivados de vinículas, frutas, carne, peixe, doces e em produtos ouro."
      ],
      "metadata": {
        "id": "jMwBNNwr9pp-"
      }
    },
    {
      "cell_type": "code",
      "execution_count": null,
      "metadata": {
        "id": "gmOab33bnXJg",
        "colab": {
          "base_uri": "https://localhost:8080/"
        },
        "outputId": "82883a37-a570-4f99-c186-e99a7423c14f"
      },
      "outputs": [
        {
          "output_type": "stream",
          "name": "stderr",
          "text": [
            "<ipython-input-47-fa49ea375d87>:2: FutureWarning: Indexing with multiple keys (implicitly converted to a tuple of keys) will be deprecated, use a list instead.\n",
            "  df.groupby('estado_civil')['vinicolas','frutas','carne','peixe', 'doces','produtos_ouro', ].mean().sort_values(by='produtos_ouro', ascending=False).plot.bar(figsize=(12,8))\n"
          ]
        },
        {
          "output_type": "execute_result",
          "data": {
            "text/plain": [
              "<AxesSubplot:xlabel='estado_civil'>"
            ]
          },
          "metadata": {},
          "execution_count": 47
        },
        {
          "output_type": "display_data",
          "data": {
            "text/plain": [
              "<Figure size 864x576 with 1 Axes>"
            ],
            "image/png": "[encoded data removed]"
          },
          "metadata": {
            "needs_background": "light"
          }
        }
      ],
      "source": [
        "# Agora podemos verificar graficamente para visualizar melhor os dados anteriores\n",
        "df.groupby('estado_civil')['vinicolas','frutas','carne','peixe', 'doces','produtos_ouro', ].mean().sort_values(by='produtos_ouro', ascending=False).plot.bar(figsize=(12,8))"
      ]
    },
    {
      "cell_type": "markdown",
      "source": [
        "É possível perceber que os maiores gastos são com produtos oriundos de vinículas em todos o grupos analisados, logo em seguida se destacam os produtos carnes e seus derivados e em terceiro lugar, produtos ouro. Carnes e produtos advindos de vinículas são produtos que provavelmente dão muito lucro e cujas ações de marketing tem funcionado bem. Seria interessante fazer um trabalho voltado para os demais produtos, principalmente para PRODUTOS OURO(supondo que esses produtos atraiam também mais Assinaturas Gold e cadastros, em geral)"
      ],
      "metadata": {
        "id": "jjbMLBqZ-kMh"
      }
    },
    {
      "cell_type": "code",
      "execution_count": null,
      "metadata": {
        "id": "eK4ZsKExMOkt",
        "colab": {
          "base_uri": "https://localhost:8080/"
        },
        "outputId": "b166e6ad-e613-4ac2-ac1c-05786ca2234b"
      },
      "outputs": [
        {
          "output_type": "execute_result",
          "data": {
            "text/plain": [
              "escolaridade\n",
              "PhD                56145.313929\n",
              "Mestrado           52917.534247\n",
              "Graduacao          52720.373656\n",
              "Pós-graduação      47633.190000\n",
              "Formacao_Basica    20306.259259\n",
              "Name: renda_anual, dtype: float64"
            ]
          },
          "metadata": {},
          "execution_count": 48
        }
      ],
      "source": [
        "#Verificando a média de renda anual dos clientes de acordo com a escolaridade\n",
        "df.groupby('escolaridade')['renda_anual'].mean().sort_values(ascending=False)"
      ]
    },
    {
      "cell_type": "code",
      "execution_count": null,
      "metadata": {
        "id": "l7cH4csuBmr0",
        "colab": {
          "base_uri": "https://localhost:8080/"
        },
        "outputId": "8e1f668c-b822-40db-c938-df93cdd1161d"
      },
      "outputs": [
        {
          "output_type": "execute_result",
          "data": {
            "text/plain": [
              "<AxesSubplot:xlabel='escolaridade'>"
            ]
          },
          "metadata": {},
          "execution_count": 49
        },
        {
          "output_type": "display_data",
          "data": {
            "text/plain": [
              "<Figure size 432x288 with 1 Axes>"
            ],
            "image/png": "[encoded data removed]"
          },
          "metadata": {
            "needs_background": "light"
          }
        }
      ],
      "source": [
        "# Analisando a média da renda familiar por Nivel Escolar graficamente\n",
        "df.groupby('escolaridade')['renda_anual'].mean().sort_values(ascending=False).plot.bar()"
      ]
    },
    {
      "cell_type": "markdown",
      "source": [
        "Aqui é possível observar uma tendência de que quanto maior a o grau de instrução do cliente, maior é a renda familiar dos clientes"
      ],
      "metadata": {
        "id": "kN9tXUIkAQ3Y"
      }
    },
    {
      "cell_type": "code",
      "source": [
        "'''\n",
        "OBS: Sabemos que para gráfico de pizza o limite máximo de dados analisados seriam 3,\n",
        "porém ainda não temos recursos de código suficiente para exibir os dados com PORCENTAGEM nos gráficos de barras.\n",
        "'''"
      ],
      "metadata": {
        "colab": {
          "base_uri": "https://localhost:8080/"
        },
        "id": "TaTfT_JnPbdP",
        "outputId": "705c153b-d803-4929-c6b3-e8720d3e29b8"
      },
      "execution_count": null,
      "outputs": [
        {
          "output_type": "execute_result",
          "data": {
            "text/plain": [
              "'\\nOBS: Sabemos que para gráfico de pizza o limite máximo de dados analisados seriam 3,\\nporém ainda não temos recursos de código suficiente para exibir os dados com PORCENTAGEM nos gráficos de barras.\\n'"
            ],
            "application/vnd.google.colaboratory.intrinsic+json": {
              "type": "string"
            }
          },
          "metadata": {},
          "execution_count": 50
        }
      ]
    },
    {
      "cell_type": "code",
      "source": [
        "#fazendo um grafico de pizza para analisar a razão do nível educacional em relação ao total\n",
        "df.groupby('escolaridade',dropna=False).size().sort_values(ascending=False).plot.pie(autopct='%.1f%%')"
      ],
      "metadata": {
        "id": "NTdtWceoI8WY",
        "colab": {
          "base_uri": "https://localhost:8080/"
        },
        "outputId": "fc3b979c-b009-4811-f978-b46e4dbb607f"
      },
      "execution_count": null,
      "outputs": [
        {
          "output_type": "execute_result",
          "data": {
            "text/plain": [
              "<AxesSubplot:ylabel='None'>"
            ]
          },
          "metadata": {},
          "execution_count": 51
        },
        {
          "output_type": "display_data",
          "data": {
            "text/plain": [
              "<Figure size 432x288 with 1 Axes>"
            ],
            "image/png": "[encoded data removed]"
          },
          "metadata": {}
        }
      ]
    },
    {
      "cell_type": "markdown",
      "source": [
        "Esse gráfico de pizza mostra o percentil da graduação dos clientes. Um pouco mais da metade deles tem Ensino superior completo e apenas 2,4% possiu apenas escolaridade básica.Essa análise é importante para verificar o perfil do cliente"
      ],
      "metadata": {
        "id": "bZDMMtnlKwdx"
      }
    },
    {
      "cell_type": "code",
      "execution_count": null,
      "metadata": {
        "id": "I5WmCN8sMGmv",
        "colab": {
          "base_uri": "https://localhost:8080/"
        },
        "outputId": "ba840a90-d8a2-4479-d0e1-837b20a3275e"
      },
      "outputs": [
        {
          "output_type": "execute_result",
          "data": {
            "text/plain": [
              "estado_civil\n",
              "Casado(a)        8\n",
              "Solteiro(a)      6\n",
              "Uniao Estavel    5\n",
              "Divorciado(a)    2\n",
              "Absurd           0\n",
              "Sozinho          0\n",
              "Viuvo(a)         0\n",
              "YOLO             0\n",
              "Name: reclamacoes, dtype: int64"
            ]
          },
          "metadata": {},
          "execution_count": 52
        }
      ],
      "source": [
        "df.groupby('estado_civil')['reclamacoes'].sum().sort_values(ascending=False)"
      ]
    },
    {
      "cell_type": "code",
      "source": [
        "# Gráfico das Reclamações\n",
        "df.groupby(['reclamacoes'],dropna=False).size().sort_values(ascending=False).plot.bar(figsize=(8,4),xlabel='Reclamações',ylabel='ID')"
      ],
      "metadata": {
        "id": "DY83q8kkaYEU",
        "colab": {
          "base_uri": "https://localhost:8080/"
        },
        "outputId": "bce48ae5-6b50-4e83-91a3-6066c885085b"
      },
      "execution_count": null,
      "outputs": [
        {
          "output_type": "execute_result",
          "data": {
            "text/plain": [
              "<AxesSubplot:xlabel='Reclamações', ylabel='ID'>"
            ]
          },
          "metadata": {},
          "execution_count": 53
        },
        {
          "output_type": "display_data",
          "data": {
            "text/plain": [
              "<Figure size 576x288 with 1 Axes>"
            ],
            "image/png": "[encoded data removed]"
          },
          "metadata": {
            "needs_background": "light"
          }
        }
      ]
    },
    {
      "cell_type": "code",
      "source": [
        "p_reclamacoes = (21/2240)*100\n",
        "print(p_reclamacoes)"
      ],
      "metadata": {
        "id": "2Wa2xLEJgcAJ",
        "colab": {
          "base_uri": "https://localhost:8080/"
        },
        "outputId": "c17ac910-3979-48cc-c883-d8f3778a9de3"
      },
      "execution_count": null,
      "outputs": [
        {
          "output_type": "stream",
          "name": "stdout",
          "text": [
            "0.9375\n"
          ]
        }
      ]
    },
    {
      "cell_type": "markdown",
      "source": [
        "No total, foram muito poucas as reclamações dos clientes listados nos ultimos 2 anos considerando que são 2240 clientes e apenas um total de 21 reclamações, que é um número expremamente baixo, menos de 1% dos clientes fizeram uma reclamação. Ou a loja tem um atendimento excelente ou os dados das reclamações não foram todos coletados."
      ],
      "metadata": {
        "id": "TNoKw6oFA7XI"
      }
    },
    {
      "cell_type": "code",
      "source": [
        "#Verificando o percentual em relação ao estado civil\n",
        "df.groupby('estado_civil')['reclamacoes'].sum().sort_values(ascending=False)"
      ],
      "metadata": {
        "id": "vikjQ29bJ9_J",
        "colab": {
          "base_uri": "https://localhost:8080/"
        },
        "outputId": "5e68ca02-d996-4cf4-a8f4-d5b7fdb9245b"
      },
      "execution_count": null,
      "outputs": [
        {
          "output_type": "execute_result",
          "data": {
            "text/plain": [
              "estado_civil\n",
              "Casado(a)        8\n",
              "Solteiro(a)      6\n",
              "Uniao Estavel    5\n",
              "Divorciado(a)    2\n",
              "Absurd           0\n",
              "Sozinho          0\n",
              "Viuvo(a)         0\n",
              "YOLO             0\n",
              "Name: reclamacoes, dtype: int64"
            ]
          },
          "metadata": {},
          "execution_count": 55
        }
      ]
    },
    {
      "cell_type": "markdown",
      "source": [
        "Podemos observar que a maior parte dos clientes está em um relacionamento. Talvez seja necessário fazer mais campanhas voltadas para pessoas que não estão em nenhum relacionamento ou em outras categorias."
      ],
      "metadata": {
        "id": "VF2X6yUyMuKE"
      }
    },
    {
      "cell_type": "code",
      "source": [
        "#observando as quantidades de clientes por estado civil\n",
        "df[['estado_civil']].value_counts()"
      ],
      "metadata": {
        "id": "ZNkNj_6bHcWH",
        "colab": {
          "base_uri": "https://localhost:8080/"
        },
        "outputId": "3da44080-65f3-488d-b1be-024e51f54511"
      },
      "execution_count": null,
      "outputs": [
        {
          "output_type": "execute_result",
          "data": {
            "text/plain": [
              "estado_civil \n",
              "Casado(a)        864\n",
              "Uniao Estavel    580\n",
              "Solteiro(a)      480\n",
              "Divorciado(a)    232\n",
              "Viuvo(a)          77\n",
              "Sozinho            3\n",
              "Absurd             2\n",
              "YOLO               2\n",
              "dtype: int64"
            ]
          },
          "metadata": {},
          "execution_count": 56
        }
      ]
    },
    {
      "cell_type": "code",
      "source": [
        "#verificando a porcentagem de cada tipo de relacionamento\n",
        "\n",
        "for x in df['estado_civil'].unique():\n",
        "    percentual = df['estado_civil'].value_counts(normalize=True)[x] * 100\n",
        "    print(f'\"{x}\" equivale a  {percentual:.2f}% dos clientes.')"
      ],
      "metadata": {
        "id": "-KW6H4RxRfW4",
        "colab": {
          "base_uri": "https://localhost:8080/"
        },
        "outputId": "cae021d4-0927-46bc-9d69-0388b8a0ac08"
      },
      "execution_count": null,
      "outputs": [
        {
          "output_type": "stream",
          "name": "stdout",
          "text": [
            "\"Solteiro(a)\" equivale a  21.43% dos clientes.\n",
            "\"Uniao Estavel\" equivale a  25.89% dos clientes.\n",
            "\"Casado(a)\" equivale a  38.57% dos clientes.\n",
            "\"Divorciado(a)\" equivale a  10.36% dos clientes.\n",
            "\"Viuvo(a)\" equivale a  3.44% dos clientes.\n",
            "\"Sozinho\" equivale a  0.13% dos clientes.\n",
            "\"Absurd\" equivale a  0.09% dos clientes.\n",
            "\"YOLO\" equivale a  0.09% dos clientes.\n"
          ]
        }
      ]
    },
    {
      "cell_type": "code",
      "execution_count": null,
      "metadata": {
        "id": "PwzEm2BPUxQU",
        "colab": {
          "base_uri": "https://localhost:8080/"
        },
        "outputId": "e072ab1e-9ae1-4e43-84f5-8b091061b493"
      },
      "outputs": [
        {
          "output_type": "stream",
          "name": "stderr",
          "text": [
            "<ipython-input-58-da0f399eab19>:2: FutureWarning: Indexing with multiple keys (implicitly converted to a tuple of keys) will be deprecated, use a list instead.\n",
            "  df.groupby('estado_civil')['compras_site','catalogo','loja_fisica'].mean().sort_values(by='compras_site', ascending=False)\n"
          ]
        },
        {
          "output_type": "execute_result",
          "data": {
            "text/plain": [
              "               compras_site  catalogo  loja_fisica\n",
              "estado_civil                                      \n",
              "YOLO               7.000000  1.000000     6.000000\n",
              "Sozinho            5.000000  0.666667     4.000000\n",
              "Viuvo(a)           4.623377  3.324675     6.415584\n",
              "Divorciado(a)      4.310345  2.672414     5.818966\n",
              "Casado(a)          4.087963  2.625000     5.850694\n",
              "Uniao Estavel      4.081034  2.675862     5.736207\n",
              "Solteiro(a)        3.872917  2.600000     5.639583\n",
              "Absurd             3.500000  7.500000     6.500000"
            ],
            "text/html": [
              "\n",
              "  <div id=\"df-1d9096ec-e7fc-42e4-87f4-f887f7d50202\">\n",
              "    <div class=\"colab-df-container\">\n",
              "      <div>\n",
              "<style scoped>\n",
              "    .dataframe tbody tr th:only-of-type {\n",
              "        vertical-align: middle;\n",
              "    }\n",
              "\n",
              "    .dataframe tbody tr th {\n",
              "        vertical-align: top;\n",
              "    }\n",
              "\n",
              "    .dataframe thead th {\n",
              "        text-align: right;\n",
              "    }\n",
              "</style>\n",
              "<table border=\"1\" class=\"dataframe\">\n",
              "  <thead>\n",
              "    <tr style=\"text-align: right;\">\n",
              "      <th></th>\n",
              "      <th>compras_site</th>\n",
              "      <th>catalogo</th>\n",
              "      <th>loja_fisica</th>\n",
              "    </tr>\n",
              "    <tr>\n",
              "      <th>estado_civil</th>\n",
              "      <th></th>\n",
              "      <th></th>\n",
              "      <th></th>\n",
              "    </tr>\n",
              "  </thead>\n",
              "  <tbody>\n",
              "    <tr>\n",
              "      <th>YOLO</th>\n",
              "      <td>7.000000</td>\n",
              "      <td>1.000000</td>\n",
              "      <td>6.000000</td>\n",
              "    </tr>\n",
              "    <tr>\n",
              "      <th>Sozinho</th>\n",
              "      <td>5.000000</td>\n",
              "      <td>0.666667</td>\n",
              "      <td>4.000000</td>\n",
              "    </tr>\n",
              "    <tr>\n",
              "      <th>Viuvo(a)</th>\n",
              "      <td>4.623377</td>\n",
              "      <td>3.324675</td>\n",
              "      <td>6.415584</td>\n",
              "    </tr>\n",
              "    <tr>\n",
              "      <th>Divorciado(a)</th>\n",
              "      <td>4.310345</td>\n",
              "      <td>2.672414</td>\n",
              "      <td>5.818966</td>\n",
              "    </tr>\n",
              "    <tr>\n",
              "      <th>Casado(a)</th>\n",
              "      <td>4.087963</td>\n",
              "      <td>2.625000</td>\n",
              "      <td>5.850694</td>\n",
              "    </tr>\n",
              "    <tr>\n",
              "      <th>Uniao Estavel</th>\n",
              "      <td>4.081034</td>\n",
              "      <td>2.675862</td>\n",
              "      <td>5.736207</td>\n",
              "    </tr>\n",
              "    <tr>\n",
              "      <th>Solteiro(a)</th>\n",
              "      <td>3.872917</td>\n",
              "      <td>2.600000</td>\n",
              "      <td>5.639583</td>\n",
              "    </tr>\n",
              "    <tr>\n",
              "      <th>Absurd</th>\n",
              "      <td>3.500000</td>\n",
              "      <td>7.500000</td>\n",
              "      <td>6.500000</td>\n",
              "    </tr>\n",
              "  </tbody>\n",
              "</table>\n",
              "</div>\n",
              "      <button class=\"colab-df-convert\" onclick=\"convertToInteractive('df-1d9096ec-e7fc-42e4-87f4-f887f7d50202')\"\n",
              "              title=\"Convert this dataframe to an interactive table.\"\n",
              "              style=\"display:none;\">\n",
              "        \n",
              "  <svg xmlns=\"http://www.w3.org/2000/svg\" height=\"24px\"viewBox=\"0 0 24 24\"\n",
              "       width=\"24px\">\n",
              "    <path d=\"M0 0h24v24H0V0z\" fill=\"none\"/>\n",
              "    <path d=\"M18.56 5.44l.94 2.06.94-2.06 2.06-.94-2.06-.94-.94-2.06-.94 2.06-2.06.94zm-11 1L8.5 8.5l.94-2.06 2.06-.94-2.06-.94L8.5 2.5l-.94 2.06-2.06.94zm10 10l.94 2.06.94-2.06 2.06-.94-2.06-.94-.94-2.06-.94 2.06-2.06.94z\"/><path d=\"M17.41 7.96l-1.37-1.37c-.4-.4-.92-.59-1.43-.59-.52 0-1.04.2-1.43.59L10.3 9.45l-7.72 7.72c-.78.78-.78 2.05 0 2.83L4 21.41c.39.39.9.59 1.41.59.51 0 1.02-.2 1.41-.59l7.78-7.78 2.81-2.81c.8-.78.8-2.07 0-2.86zM5.41 20L4 18.59l7.72-7.72 1.47 1.35L5.41 20z\"/>\n",
              "  </svg>\n",
              "      </button>\n",
              "      \n",
              "  <style>\n",
              "    .colab-df-container {\n",
              "      display:flex;\n",
              "      flex-wrap:wrap;\n",
              "      gap: 12px;\n",
              "    }\n",
              "\n",
              "    .colab-df-convert {\n",
              "      background-color: #E8F0FE;\n",
              "      border: none;\n",
              "      border-radius: 50%;\n",
              "      cursor: pointer;\n",
              "      display: none;\n",
              "      fill: #1967D2;\n",
              "      height: 32px;\n",
              "      padding: 0 0 0 0;\n",
              "      width: 32px;\n",
              "    }\n",
              "\n",
              "    .colab-df-convert:hover {\n",
              "      background-color: #E2EBFA;\n",
              "      box-shadow: 0px 1px 2px rgba(60, 64, 67, 0.3), 0px 1px 3px 1px rgba(60, 64, 67, 0.15);\n",
              "      fill: #174EA6;\n",
              "    }\n",
              "\n",
              "    [theme=dark] .colab-df-convert {\n",
              "      background-color: #3B4455;\n",
              "      fill: #D2E3FC;\n",
              "    }\n",
              "\n",
              "    [theme=dark] .colab-df-convert:hover {\n",
              "      background-color: #434B5C;\n",
              "      box-shadow: 0px 1px 3px 1px rgba(0, 0, 0, 0.15);\n",
              "      filter: drop-shadow(0px 1px 2px rgba(0, 0, 0, 0.3));\n",
              "      fill: #FFFFFF;\n",
              "    }\n",
              "  </style>\n",
              "\n",
              "      <script>\n",
              "        const buttonEl =\n",
              "          document.querySelector('#df-1d9096ec-e7fc-42e4-87f4-f887f7d50202 button.colab-df-convert');\n",
              "        buttonEl.style.display =\n",
              "          google.colab.kernel.accessAllowed ? 'block' : 'none';\n",
              "\n",
              "        async function convertToInteractive(key) {\n",
              "          const element = document.querySelector('#df-1d9096ec-e7fc-42e4-87f4-f887f7d50202');\n",
              "          const dataTable =\n",
              "            await google.colab.kernel.invokeFunction('convertToInteractive',\n",
              "                                                     [key], {});\n",
              "          if (!dataTable) return;\n",
              "\n",
              "          const docLinkHtml = 'Like what you see? Visit the ' +\n",
              "            '<a target=\"_blank\" href=https://colab.research.google.com/notebooks/data_table.ipynb>data table notebook</a>'\n",
              "            + ' to learn more about interactive tables.';\n",
              "          element.innerHTML = '';\n",
              "          dataTable['output_type'] = 'display_data';\n",
              "          await google.colab.output.renderOutput(dataTable, element);\n",
              "          const docLink = document.createElement('div');\n",
              "          docLink.innerHTML = docLinkHtml;\n",
              "          element.appendChild(docLink);\n",
              "        }\n",
              "      </script>\n",
              "    </div>\n",
              "  </div>\n",
              "  "
            ]
          },
          "metadata": {},
          "execution_count": 58
        }
      ],
      "source": [
        "#Analisando a média de compras por estado civil no site, catálogo e loja física \n",
        "df.groupby('estado_civil')['compras_site','catalogo','loja_fisica'].mean().sort_values(by='compras_site', ascending=False)"
      ]
    },
    {
      "cell_type": "markdown",
      "source": [
        "A maior parte ainda prefere fazer as compras na loja física, apenas Yolo que são apenas 2 indivíduos fizeram suas compras preferencialmente no site"
      ],
      "metadata": {
        "id": "ABw4ykZWRHZv"
      }
    },
    {
      "cell_type": "code",
      "source": [
        "#comparando as quantidades de compras em difetentes meios\n",
        "df[['compras_site', 'catalogo', 'loja_fisica']].sum()"
      ],
      "metadata": {
        "id": "WmKAT_fBNmeB",
        "colab": {
          "base_uri": "https://localhost:8080/"
        },
        "outputId": "e3126a66-f3c7-481f-c6ce-67c76c2e1f9b"
      },
      "execution_count": null,
      "outputs": [
        {
          "output_type": "execute_result",
          "data": {
            "text/plain": [
              "compras_site     9150\n",
              "catalogo         5963\n",
              "loja_fisica     12970\n",
              "dtype: int64"
            ]
          },
          "metadata": {},
          "execution_count": 59
        }
      ]
    },
    {
      "cell_type": "code",
      "source": [
        "#foi necessário criar uma variável para gerar o gráfico da soma das colunas\n",
        "pizza = df[['compras_site', 'catalogo', 'loja_fisica']].sum()\n",
        "pizza.plot.pie(autopct='%.1f%%')"
      ],
      "metadata": {
        "id": "7gZElq92Rx0m",
        "colab": {
          "base_uri": "https://localhost:8080/"
        },
        "outputId": "ec2ba7a7-ab07-474e-db59-d9a56c8ce5ac"
      },
      "execution_count": null,
      "outputs": [
        {
          "output_type": "execute_result",
          "data": {
            "text/plain": [
              "<AxesSubplot:ylabel='None'>"
            ]
          },
          "metadata": {},
          "execution_count": 60
        },
        {
          "output_type": "display_data",
          "data": {
            "text/plain": [
              "<Figure size 432x288 with 1 Axes>"
            ],
            "image/png": "[encoded data removed]"
          },
          "metadata": {}
        }
      ]
    },
    {
      "cell_type": "markdown",
      "source": [
        "O gráfico acima mostra a proporção das compras. Há um volume de compras nos três meios analisados, mas as compras em lojas físicas são as mais relevantes. Podendo ser interessante fazer algumas das campanhas dentro das lojas, mas também incentivar os clientes a comprarem mais pelo site ou pelo catálogo"
      ],
      "metadata": {
        "id": "YTlnQGfJP-k4"
      }
    },
    {
      "cell_type": "markdown",
      "source": [
        "###Alálises com consumidores que têm menores em casa"
      ],
      "metadata": {
        "id": "C4UJTDRtge9s"
      }
    },
    {
      "cell_type": "code",
      "source": [
        "df['n_criancas'].value_counts()"
      ],
      "metadata": {
        "id": "m701sAkMgnQM",
        "colab": {
          "base_uri": "https://localhost:8080/"
        },
        "outputId": "bbf9c8be-395d-4e1c-886a-a4b5be11ce71"
      },
      "execution_count": null,
      "outputs": [
        {
          "output_type": "execute_result",
          "data": {
            "text/plain": [
              "0    1293\n",
              "1     899\n",
              "2      48\n",
              "Name: n_criancas, dtype: int64"
            ]
          },
          "metadata": {},
          "execution_count": 61
        }
      ]
    },
    {
      "cell_type": "code",
      "source": [
        "npequenos = 899 + 48\n",
        "print(npequenos)\n",
        "print(npequenos/2240)"
      ],
      "metadata": {
        "id": "dQyMJIA5jzIf",
        "colab": {
          "base_uri": "https://localhost:8080/"
        },
        "outputId": "62ca3203-24e5-4617-f8ce-5f072da1d912"
      },
      "execution_count": null,
      "outputs": [
        {
          "output_type": "stream",
          "name": "stdout",
          "text": [
            "947\n",
            "0.42276785714285714\n"
          ]
        }
      ]
    },
    {
      "cell_type": "markdown",
      "source": [
        "1293, não possuem crianças em casa, somando os que tem 1 e 2 crianças temos que 947 cosumidores possuem crianças em casa o que equivale a aproximandamente 42%"
      ],
      "metadata": {
        "id": "qT5jr-Yujg_K"
      }
    },
    {
      "cell_type": "code",
      "source": [
        "df['n_adolescentes'].value_counts()"
      ],
      "metadata": {
        "id": "MU_Aa4ULkYt3",
        "colab": {
          "base_uri": "https://localhost:8080/"
        },
        "outputId": "e0411a48-4e83-464b-cfca-8783df35f58c"
      },
      "execution_count": null,
      "outputs": [
        {
          "output_type": "execute_result",
          "data": {
            "text/plain": [
              "0    1158\n",
              "1    1030\n",
              "2      52\n",
              "Name: n_adolescentes, dtype: int64"
            ]
          },
          "metadata": {},
          "execution_count": 63
        }
      ]
    },
    {
      "cell_type": "code",
      "source": [
        "nmaiores= 1030 + 52\n",
        "print(nmaiores)\n",
        "print(nmaiores/2240)"
      ],
      "metadata": {
        "id": "hMnpZ5GJkhvW",
        "colab": {
          "base_uri": "https://localhost:8080/"
        },
        "outputId": "4e780784-c470-42ff-d52c-7376abc565b9"
      },
      "execution_count": null,
      "outputs": [
        {
          "output_type": "stream",
          "name": "stdout",
          "text": [
            "1082\n",
            "0.4830357142857143\n"
          ]
        }
      ]
    },
    {
      "cell_type": "markdown",
      "source": [
        "1158, não possuem adolescentes em casa, somando os que tem 1 e 2 adolescentes temos que 1082 cosumidores possuem adolescentes em casa o que equivale a aproximandamente 48% do grupo"
      ],
      "metadata": {
        "id": "ogiY9e4elA_p"
      }
    },
    {
      "cell_type": "code",
      "source": [
        "#criando uma cópia, para depois unir os grupos que tem crianças e adolescentes, em uma coluna filhos\n",
        "#para verficar a efetividade das capanhas e o perfil dos consumidores que tem filhos, em relação aos que não tem\n",
        "#e outras relações que podem ser feitas\n",
        "dfilhos = df.copy()\n",
        "#concatenando as colunas número de crianças e número de adolescentes em uma coluna dependentes menores de idade\n",
        "dfilhos['n_menores'] = dfilhos['n_criancas'] + dfilhos['n_adolescentes']"
      ],
      "metadata": {
        "id": "tV8NeI5pe_6D"
      },
      "execution_count": null,
      "outputs": []
    },
    {
      "cell_type": "code",
      "source": [
        "#Verificando o total de dependentes\n",
        "dfilhos['n_menores'].value_counts()"
      ],
      "metadata": {
        "id": "qzQJs2zsnBzd",
        "colab": {
          "base_uri": "https://localhost:8080/"
        },
        "outputId": "4011c70d-f7fc-45f7-dbe6-6b738801ba4c"
      },
      "execution_count": null,
      "outputs": [
        {
          "output_type": "execute_result",
          "data": {
            "text/plain": [
              "1    1128\n",
              "0     638\n",
              "2     421\n",
              "3      53\n",
              "Name: n_menores, dtype: int64"
            ]
          },
          "metadata": {},
          "execution_count": 66
        }
      ]
    },
    {
      "cell_type": "code",
      "source": [
        "dfilhos"
      ],
      "metadata": {
        "colab": {
          "base_uri": "https://localhost:8080/"
        },
        "id": "nNKxui75T_sx",
        "outputId": "3a364c17-b032-4800-f235-9ededf32c0af"
      },
      "execution_count": null,
      "outputs": [
        {
          "output_type": "execute_result",
          "data": {
            "text/plain": [
              "         id  ano_nascimento escolaridade   estado_civil  renda_anual  \\\n",
              "0      5524            1957    Graduacao    Solteiro(a)      58138.0   \n",
              "1      2174            1954    Graduacao    Solteiro(a)      46344.0   \n",
              "2      4141            1965    Graduacao  Uniao Estavel      71613.0   \n",
              "3      6182            1984    Graduacao  Uniao Estavel      26646.0   \n",
              "4      5324            1981          PhD      Casado(a)      58293.0   \n",
              "...     ...             ...          ...            ...          ...   \n",
              "2235  10870            1967    Graduacao      Casado(a)      61223.0   \n",
              "2236   4001            1946          PhD  Uniao Estavel      64014.0   \n",
              "2237   7270            1981    Graduacao  Divorciado(a)      56981.0   \n",
              "2238   8235            1956     Mestrado  Uniao Estavel      69245.0   \n",
              "2239   9405            1954          PhD      Casado(a)      52869.0   \n",
              "\n",
              "      n_criancas  n_adolescentes data_cadastro  n_dias_ult_compra  vinicolas  \\\n",
              "0              0               0    2012-09-04                 58        635   \n",
              "1              1               1    2014-03-08                 38         11   \n",
              "2              0               0    2013-08-21                 26        426   \n",
              "3              1               0    2014-02-10                 26         11   \n",
              "4              1               0    2014-01-19                 94        173   \n",
              "...          ...             ...           ...                ...        ...   \n",
              "2235           0               1    2013-06-13                 46        709   \n",
              "2236           2               1    2014-06-10                 56        406   \n",
              "2237           0               0    2014-01-25                 91        908   \n",
              "2238           0               1    2014-01-24                  8        428   \n",
              "2239           1               1    2012-10-15                 40         84   \n",
              "\n",
              "      ...  loja_fisica  visitas_ult_mes  campanha3  campanha4  campanha5  \\\n",
              "0     ...            4                7          0          0          0   \n",
              "1     ...            2                5          0          0          0   \n",
              "2     ...           10                4          0          0          0   \n",
              "3     ...            4                6          0          0          0   \n",
              "4     ...            6                5          0          0          0   \n",
              "...   ...          ...              ...        ...        ...        ...   \n",
              "2235  ...            4                5          0          0          0   \n",
              "2236  ...            5                7          0          0          0   \n",
              "2237  ...           13                6          0          1          0   \n",
              "2238  ...           10                3          0          0          0   \n",
              "2239  ...            4                7          0          0          0   \n",
              "\n",
              "      campanha1  campanha2  reclamacoes  resposta  n_menores  \n",
              "0             0          0            0         1          0  \n",
              "1             0          0            0         0          2  \n",
              "2             0          0            0         0          0  \n",
              "3             0          0            0         0          1  \n",
              "4             0          0            0         0          1  \n",
              "...         ...        ...          ...       ...        ...  \n",
              "2235          0          0            0         0          1  \n",
              "2236          1          0            0         0          3  \n",
              "2237          0          0            0         0          0  \n",
              "2238          0          0            0         0          1  \n",
              "2239          0          0            0         1          2  \n",
              "\n",
              "[2240 rows x 28 columns]"
            ],
            "text/html": [
              "\n",
              "  <div id=\"df-afe5c80b-3473-4872-8e3a-86080ed1043f\">\n",
              "    <div class=\"colab-df-container\">\n",
              "      <div>\n",
              "<style scoped>\n",
              "    .dataframe tbody tr th:only-of-type {\n",
              "        vertical-align: middle;\n",
              "    }\n",
              "\n",
              "    .dataframe tbody tr th {\n",
              "        vertical-align: top;\n",
              "    }\n",
              "\n",
              "    .dataframe thead th {\n",
              "        text-align: right;\n",
              "    }\n",
              "</style>\n",
              "<table border=\"1\" class=\"dataframe\">\n",
              "  <thead>\n",
              "    <tr style=\"text-align: right;\">\n",
              "      <th></th>\n",
              "      <th>id</th>\n",
              "      <th>ano_nascimento</th>\n",
              "      <th>escolaridade</th>\n",
              "      <th>estado_civil</th>\n",
              "      <th>renda_anual</th>\n",
              "      <th>n_criancas</th>\n",
              "      <th>n_adolescentes</th>\n",
              "      <th>data_cadastro</th>\n",
              "      <th>n_dias_ult_compra</th>\n",
              "      <th>vinicolas</th>\n",
              "      <th>...</th>\n",
              "      <th>loja_fisica</th>\n",
              "      <th>visitas_ult_mes</th>\n",
              "      <th>campanha3</th>\n",
              "      <th>campanha4</th>\n",
              "      <th>campanha5</th>\n",
              "      <th>campanha1</th>\n",
              "      <th>campanha2</th>\n",
              "      <th>reclamacoes</th>\n",
              "      <th>resposta</th>\n",
              "      <th>n_menores</th>\n",
              "    </tr>\n",
              "  </thead>\n",
              "  <tbody>\n",
              "    <tr>\n",
              "      <th>0</th>\n",
              "      <td>5524</td>\n",
              "      <td>1957</td>\n",
              "      <td>Graduacao</td>\n",
              "      <td>Solteiro(a)</td>\n",
              "      <td>58138.0</td>\n",
              "      <td>0</td>\n",
              "      <td>0</td>\n",
              "      <td>2012-09-04</td>\n",
              "      <td>58</td>\n",
              "      <td>635</td>\n",
              "      <td>...</td>\n",
              "      <td>4</td>\n",
              "      <td>7</td>\n",
              "      <td>0</td>\n",
              "      <td>0</td>\n",
              "      <td>0</td>\n",
              "      <td>0</td>\n",
              "      <td>0</td>\n",
              "      <td>0</td>\n",
              "      <td>1</td>\n",
              "      <td>0</td>\n",
              "    </tr>\n",
              "    <tr>\n",
              "      <th>1</th>\n",
              "      <td>2174</td>\n",
              "      <td>1954</td>\n",
              "      <td>Graduacao</td>\n",
              "      <td>Solteiro(a)</td>\n",
              "      <td>46344.0</td>\n",
              "      <td>1</td>\n",
              "      <td>1</td>\n",
              "      <td>2014-03-08</td>\n",
              "      <td>38</td>\n",
              "      <td>11</td>\n",
              "      <td>...</td>\n",
              "      <td>2</td>\n",
              "      <td>5</td>\n",
              "      <td>0</td>\n",
              "      <td>0</td>\n",
              "      <td>0</td>\n",
              "      <td>0</td>\n",
              "      <td>0</td>\n",
              "      <td>0</td>\n",
              "      <td>0</td>\n",
              "      <td>2</td>\n",
              "    </tr>\n",
              "    <tr>\n",
              "      <th>2</th>\n",
              "      <td>4141</td>\n",
              "      <td>1965</td>\n",
              "      <td>Graduacao</td>\n",
              "      <td>Uniao Estavel</td>\n",
              "      <td>71613.0</td>\n",
              "      <td>0</td>\n",
              "      <td>0</td>\n",
              "      <td>2013-08-21</td>\n",
              "      <td>26</td>\n",
              "      <td>426</td>\n",
              "      <td>...</td>\n",
              "      <td>10</td>\n",
              "      <td>4</td>\n",
              "      <td>0</td>\n",
              "      <td>0</td>\n",
              "      <td>0</td>\n",
              "      <td>0</td>\n",
              "      <td>0</td>\n",
              "      <td>0</td>\n",
              "      <td>0</td>\n",
              "      <td>0</td>\n",
              "    </tr>\n",
              "    <tr>\n",
              "      <th>3</th>\n",
              "      <td>6182</td>\n",
              "      <td>1984</td>\n",
              "      <td>Graduacao</td>\n",
              "      <td>Uniao Estavel</td>\n",
              "      <td>26646.0</td>\n",
              "      <td>1</td>\n",
              "      <td>0</td>\n",
              "      <td>2014-02-10</td>\n",
              "      <td>26</td>\n",
              "      <td>11</td>\n",
              "      <td>...</td>\n",
              "      <td>4</td>\n",
              "      <td>6</td>\n",
              "      <td>0</td>\n",
              "      <td>0</td>\n",
              "      <td>0</td>\n",
              "      <td>0</td>\n",
              "      <td>0</td>\n",
              "      <td>0</td>\n",
              "      <td>0</td>\n",
              "      <td>1</td>\n",
              "    </tr>\n",
              "    <tr>\n",
              "      <th>4</th>\n",
              "      <td>5324</td>\n",
              "      <td>1981</td>\n",
              "      <td>PhD</td>\n",
              "      <td>Casado(a)</td>\n",
              "      <td>58293.0</td>\n",
              "      <td>1</td>\n",
              "      <td>0</td>\n",
              "      <td>2014-01-19</td>\n",
              "      <td>94</td>\n",
              "      <td>173</td>\n",
              "      <td>...</td>\n",
              "      <td>6</td>\n",
              "      <td>5</td>\n",
              "      <td>0</td>\n",
              "      <td>0</td>\n",
              "      <td>0</td>\n",
              "      <td>0</td>\n",
              "      <td>0</td>\n",
              "      <td>0</td>\n",
              "      <td>0</td>\n",
              "      <td>1</td>\n",
              "    </tr>\n",
              "    <tr>\n",
              "      <th>...</th>\n",
              "      <td>...</td>\n",
              "      <td>...</td>\n",
              "      <td>...</td>\n",
              "      <td>...</td>\n",
              "      <td>...</td>\n",
              "      <td>...</td>\n",
              "      <td>...</td>\n",
              "      <td>...</td>\n",
              "      <td>...</td>\n",
              "      <td>...</td>\n",
              "      <td>...</td>\n",
              "      <td>...</td>\n",
              "      <td>...</td>\n",
              "      <td>...</td>\n",
              "      <td>...</td>\n",
              "      <td>...</td>\n",
              "      <td>...</td>\n",
              "      <td>...</td>\n",
              "      <td>...</td>\n",
              "      <td>...</td>\n",
              "      <td>...</td>\n",
              "    </tr>\n",
              "    <tr>\n",
              "      <th>2235</th>\n",
              "      <td>10870</td>\n",
              "      <td>1967</td>\n",
              "      <td>Graduacao</td>\n",
              "      <td>Casado(a)</td>\n",
              "      <td>61223.0</td>\n",
              "      <td>0</td>\n",
              "      <td>1</td>\n",
              "      <td>2013-06-13</td>\n",
              "      <td>46</td>\n",
              "      <td>709</td>\n",
              "      <td>...</td>\n",
              "      <td>4</td>\n",
              "      <td>5</td>\n",
              "      <td>0</td>\n",
              "      <td>0</td>\n",
              "      <td>0</td>\n",
              "      <td>0</td>\n",
              "      <td>0</td>\n",
              "      <td>0</td>\n",
              "      <td>0</td>\n",
              "      <td>1</td>\n",
              "    </tr>\n",
              "    <tr>\n",
              "      <th>2236</th>\n",
              "      <td>4001</td>\n",
              "      <td>1946</td>\n",
              "      <td>PhD</td>\n",
              "      <td>Uniao Estavel</td>\n",
              "      <td>64014.0</td>\n",
              "      <td>2</td>\n",
              "      <td>1</td>\n",
              "      <td>2014-06-10</td>\n",
              "      <td>56</td>\n",
              "      <td>406</td>\n",
              "      <td>...</td>\n",
              "      <td>5</td>\n",
              "      <td>7</td>\n",
              "      <td>0</td>\n",
              "      <td>0</td>\n",
              "      <td>0</td>\n",
              "      <td>1</td>\n",
              "      <td>0</td>\n",
              "      <td>0</td>\n",
              "      <td>0</td>\n",
              "      <td>3</td>\n",
              "    </tr>\n",
              "    <tr>\n",
              "      <th>2237</th>\n",
              "      <td>7270</td>\n",
              "      <td>1981</td>\n",
              "      <td>Graduacao</td>\n",
              "      <td>Divorciado(a)</td>\n",
              "      <td>56981.0</td>\n",
              "      <td>0</td>\n",
              "      <td>0</td>\n",
              "      <td>2014-01-25</td>\n",
              "      <td>91</td>\n",
              "      <td>908</td>\n",
              "      <td>...</td>\n",
              "      <td>13</td>\n",
              "      <td>6</td>\n",
              "      <td>0</td>\n",
              "      <td>1</td>\n",
              "      <td>0</td>\n",
              "      <td>0</td>\n",
              "      <td>0</td>\n",
              "      <td>0</td>\n",
              "      <td>0</td>\n",
              "      <td>0</td>\n",
              "    </tr>\n",
              "    <tr>\n",
              "      <th>2238</th>\n",
              "      <td>8235</td>\n",
              "      <td>1956</td>\n",
              "      <td>Mestrado</td>\n",
              "      <td>Uniao Estavel</td>\n",
              "      <td>69245.0</td>\n",
              "      <td>0</td>\n",
              "      <td>1</td>\n",
              "      <td>2014-01-24</td>\n",
              "      <td>8</td>\n",
              "      <td>428</td>\n",
              "      <td>...</td>\n",
              "      <td>10</td>\n",
              "      <td>3</td>\n",
              "      <td>0</td>\n",
              "      <td>0</td>\n",
              "      <td>0</td>\n",
              "      <td>0</td>\n",
              "      <td>0</td>\n",
              "      <td>0</td>\n",
              "      <td>0</td>\n",
              "      <td>1</td>\n",
              "    </tr>\n",
              "    <tr>\n",
              "      <th>2239</th>\n",
              "      <td>9405</td>\n",
              "      <td>1954</td>\n",
              "      <td>PhD</td>\n",
              "      <td>Casado(a)</td>\n",
              "      <td>52869.0</td>\n",
              "      <td>1</td>\n",
              "      <td>1</td>\n",
              "      <td>2012-10-15</td>\n",
              "      <td>40</td>\n",
              "      <td>84</td>\n",
              "      <td>...</td>\n",
              "      <td>4</td>\n",
              "      <td>7</td>\n",
              "      <td>0</td>\n",
              "      <td>0</td>\n",
              "      <td>0</td>\n",
              "      <td>0</td>\n",
              "      <td>0</td>\n",
              "      <td>0</td>\n",
              "      <td>1</td>\n",
              "      <td>2</td>\n",
              "    </tr>\n",
              "  </tbody>\n",
              "</table>\n",
              "<p>2240 rows × 28 columns</p>\n",
              "</div>\n",
              "      <button class=\"colab-df-convert\" onclick=\"convertToInteractive('df-afe5c80b-3473-4872-8e3a-86080ed1043f')\"\n",
              "              title=\"Convert this dataframe to an interactive table.\"\n",
              "              style=\"display:none;\">\n",
              "        \n",
              "  <svg xmlns=\"http://www.w3.org/2000/svg\" height=\"24px\"viewBox=\"0 0 24 24\"\n",
              "       width=\"24px\">\n",
              "    <path d=\"M0 0h24v24H0V0z\" fill=\"none\"/>\n",
              "    <path d=\"M18.56 5.44l.94 2.06.94-2.06 2.06-.94-2.06-.94-.94-2.06-.94 2.06-2.06.94zm-11 1L8.5 8.5l.94-2.06 2.06-.94-2.06-.94L8.5 2.5l-.94 2.06-2.06.94zm10 10l.94 2.06.94-2.06 2.06-.94-2.06-.94-.94-2.06-.94 2.06-2.06.94z\"/><path d=\"M17.41 7.96l-1.37-1.37c-.4-.4-.92-.59-1.43-.59-.52 0-1.04.2-1.43.59L10.3 9.45l-7.72 7.72c-.78.78-.78 2.05 0 2.83L4 21.41c.39.39.9.59 1.41.59.51 0 1.02-.2 1.41-.59l7.78-7.78 2.81-2.81c.8-.78.8-2.07 0-2.86zM5.41 20L4 18.59l7.72-7.72 1.47 1.35L5.41 20z\"/>\n",
              "  </svg>\n",
              "      </button>\n",
              "      \n",
              "  <style>\n",
              "    .colab-df-container {\n",
              "      display:flex;\n",
              "      flex-wrap:wrap;\n",
              "      gap: 12px;\n",
              "    }\n",
              "\n",
              "    .colab-df-convert {\n",
              "      background-color: #E8F0FE;\n",
              "      border: none;\n",
              "      border-radius: 50%;\n",
              "      cursor: pointer;\n",
              "      display: none;\n",
              "      fill: #1967D2;\n",
              "      height: 32px;\n",
              "      padding: 0 0 0 0;\n",
              "      width: 32px;\n",
              "    }\n",
              "\n",
              "    .colab-df-convert:hover {\n",
              "      background-color: #E2EBFA;\n",
              "      box-shadow: 0px 1px 2px rgba(60, 64, 67, 0.3), 0px 1px 3px 1px rgba(60, 64, 67, 0.15);\n",
              "      fill: #174EA6;\n",
              "    }\n",
              "\n",
              "    [theme=dark] .colab-df-convert {\n",
              "      background-color: #3B4455;\n",
              "      fill: #D2E3FC;\n",
              "    }\n",
              "\n",
              "    [theme=dark] .colab-df-convert:hover {\n",
              "      background-color: #434B5C;\n",
              "      box-shadow: 0px 1px 3px 1px rgba(0, 0, 0, 0.15);\n",
              "      filter: drop-shadow(0px 1px 2px rgba(0, 0, 0, 0.3));\n",
              "      fill: #FFFFFF;\n",
              "    }\n",
              "  </style>\n",
              "\n",
              "      <script>\n",
              "        const buttonEl =\n",
              "          document.querySelector('#df-afe5c80b-3473-4872-8e3a-86080ed1043f button.colab-df-convert');\n",
              "        buttonEl.style.display =\n",
              "          google.colab.kernel.accessAllowed ? 'block' : 'none';\n",
              "\n",
              "        async function convertToInteractive(key) {\n",
              "          const element = document.querySelector('#df-afe5c80b-3473-4872-8e3a-86080ed1043f');\n",
              "          const dataTable =\n",
              "            await google.colab.kernel.invokeFunction('convertToInteractive',\n",
              "                                                     [key], {});\n",
              "          if (!dataTable) return;\n",
              "\n",
              "          const docLinkHtml = 'Like what you see? Visit the ' +\n",
              "            '<a target=\"_blank\" href=https://colab.research.google.com/notebooks/data_table.ipynb>data table notebook</a>'\n",
              "            + ' to learn more about interactive tables.';\n",
              "          element.innerHTML = '';\n",
              "          dataTable['output_type'] = 'display_data';\n",
              "          await google.colab.output.renderOutput(dataTable, element);\n",
              "          const docLink = document.createElement('div');\n",
              "          docLink.innerHTML = docLinkHtml;\n",
              "          element.appendChild(docLink);\n",
              "        }\n",
              "      </script>\n",
              "    </div>\n",
              "  </div>\n",
              "  "
            ]
          },
          "metadata": {},
          "execution_count": 67
        }
      ]
    },
    {
      "cell_type": "code",
      "source": [
        "sdependentes  = 638 / 2240\n",
        "print(sdependentes)"
      ],
      "metadata": {
        "id": "1LNWLPJznzRG",
        "colab": {
          "base_uri": "https://localhost:8080/"
        },
        "outputId": "fe3d6848-b6e0-49c3-bb9f-6289d455ccb5"
      },
      "execution_count": null,
      "outputs": [
        {
          "output_type": "stream",
          "name": "stdout",
          "text": [
            "0.28482142857142856\n"
          ]
        }
      ]
    },
    {
      "cell_type": "markdown",
      "source": [
        "Aqui temos uma observação muito interessante que não foi possivel antes. Quando juntamos crianças e adolescentes em um grupo, podemos observar que há mais consumidores com algum menor em casa do que os que não tem nenhum. Os que não tem crianças ou adolescentes reprentam apenas 28% do total"
      ],
      "metadata": {
        "id": "-KYi6OUSnV5G"
      }
    },
    {
      "cell_type": "code",
      "source": [
        "#verificando o total de dependentes menores por estado civil\n",
        "dfilhos.groupby('estado_civil')['n_menores'].sum().sort_values(ascending=False)"
      ],
      "metadata": {
        "id": "sxJ2jUuylo8y",
        "colab": {
          "base_uri": "https://localhost:8080/"
        },
        "outputId": "5bb95aa0-dd0e-4c26-8c5c-ba00b1ccedf6"
      },
      "execution_count": null,
      "outputs": [
        {
          "output_type": "execute_result",
          "data": {
            "text/plain": [
              "estado_civil\n",
              "Casado(a)        836\n",
              "Uniao Estavel    568\n",
              "Solteiro(a)      418\n",
              "Divorciado(a)    233\n",
              "Viuvo(a)          67\n",
              "Sozinho            5\n",
              "YOLO               2\n",
              "Absurd             0\n",
              "Name: n_menores, dtype: int64"
            ]
          },
          "metadata": {},
          "execution_count": 69
        }
      ]
    },
    {
      "cell_type": "code",
      "source": [
        "#verificando a quantidade média de dependentes menores em relação a escolaridade dos clientes\n",
        "dfilhos.groupby('escolaridade')['n_menores'].mean().sort_values(ascending=False)"
      ],
      "metadata": {
        "id": "Tndvzrpr9VZW",
        "colab": {
          "base_uri": "https://localhost:8080/"
        },
        "outputId": "52802ab8-9bc0-4e40-92ef-b969d0203412"
      },
      "execution_count": null,
      "outputs": [
        {
          "output_type": "execute_result",
          "data": {
            "text/plain": [
              "escolaridade\n",
              "PhD                1.000000\n",
              "Mestrado           0.989189\n",
              "Graduacao          0.938776\n",
              "Pós-graduação      0.886700\n",
              "Formacao_Basica    0.722222\n",
              "Name: n_menores, dtype: float64"
            ]
          },
          "metadata": {},
          "execution_count": 70
        }
      ]
    },
    {
      "cell_type": "code",
      "source": [
        "dfilhos.groupby('n_menores',dropna=False).size().sort_values(ascending=False).plot.pie(autopct='%.1f%%')"
      ],
      "metadata": {
        "id": "osVjyrrb_DUt",
        "colab": {
          "base_uri": "https://localhost:8080/"
        },
        "outputId": "11bff9e9-09aa-4a81-e441-78ee4fc1c754"
      },
      "execution_count": null,
      "outputs": [
        {
          "output_type": "execute_result",
          "data": {
            "text/plain": [
              "<AxesSubplot:ylabel='None'>"
            ]
          },
          "metadata": {},
          "execution_count": 71
        },
        {
          "output_type": "display_data",
          "data": {
            "text/plain": [
              "<Figure size 432x288 with 1 Axes>"
            ],
            "image/png": "[encoded data removed]"
          },
          "metadata": {}
        }
      ]
    },
    {
      "cell_type": "markdown",
      "source": [
        "###Verificando a efetividade das campanhas"
      ],
      "metadata": {
        "id": "C8D8pLfwkvUS"
      }
    },
    {
      "cell_type": "code",
      "source": [
        "df[['campanha1']].value_counts()"
      ],
      "metadata": {
        "id": "CrFod-CUdeLc",
        "colab": {
          "base_uri": "https://localhost:8080/"
        },
        "outputId": "787806ee-1da3-49ab-da80-0622b48561e8"
      },
      "execution_count": null,
      "outputs": [
        {
          "output_type": "execute_result",
          "data": {
            "text/plain": [
              "campanha1\n",
              "0            2096\n",
              "1             144\n",
              "dtype: int64"
            ]
          },
          "metadata": {},
          "execution_count": 72
        }
      ]
    },
    {
      "cell_type": "code",
      "source": [
        "#Verificando a efetividade das campanhas em relação a escolaridade\n",
        "df.groupby('escolaridade')['campanha1','campanha2','campanha3','campanha4','campanha5','resposta'].sum().plot.bar(figsize=(15,5),xlabel='escolaridade',ylabel='Efetividade das campanhas')"
      ],
      "metadata": {
        "id": "rm9Fjf5hz8wx",
        "colab": {
          "base_uri": "https://localhost:8080/"
        },
        "outputId": "246c1b23-eccc-4e8c-c766-c9ce9544a9a5"
      },
      "execution_count": null,
      "outputs": [
        {
          "output_type": "stream",
          "name": "stderr",
          "text": [
            "<ipython-input-73-94d98fbc123d>:2: FutureWarning: Indexing with multiple keys (implicitly converted to a tuple of keys) will be deprecated, use a list instead.\n",
            "  df.groupby('escolaridade')['campanha1','campanha2','campanha3','campanha4','campanha5','resposta'].sum().plot.bar(figsize=(15,5),xlabel='escolaridade',ylabel='Efetividade das campanhas')\n"
          ]
        },
        {
          "output_type": "execute_result",
          "data": {
            "text/plain": [
              "<AxesSubplot:xlabel='escolaridade', ylabel='Efetividade das campanhas'>"
            ]
          },
          "metadata": {},
          "execution_count": 73
        },
        {
          "output_type": "display_data",
          "data": {
            "text/plain": [
              "<Figure size 1080x360 with 1 Axes>"
            ],
            "image/png": "[encoded data removed]"
          },
          "metadata": {
            "needs_background": "light"
          }
        }
      ]
    },
    {
      "cell_type": "code",
      "source": [
        "df[['campanha2']].value_counts()"
      ],
      "metadata": {
        "id": "BNiPRCO7dVbU",
        "colab": {
          "base_uri": "https://localhost:8080/"
        },
        "outputId": "1ab1d16f-dc35-4333-bdc1-1c8ac5e07292"
      },
      "execution_count": null,
      "outputs": [
        {
          "output_type": "execute_result",
          "data": {
            "text/plain": [
              "campanha2\n",
              "0            2210\n",
              "1              30\n",
              "dtype: int64"
            ]
          },
          "metadata": {},
          "execution_count": 74
        }
      ]
    },
    {
      "cell_type": "code",
      "source": [
        "df[['campanha3']].value_counts()"
      ],
      "metadata": {
        "id": "WL5qp2dNkJhw",
        "colab": {
          "base_uri": "https://localhost:8080/"
        },
        "outputId": "abf56ade-7605-43bc-8a38-52a3fe21c0bd"
      },
      "execution_count": null,
      "outputs": [
        {
          "output_type": "execute_result",
          "data": {
            "text/plain": [
              "campanha3\n",
              "0            2077\n",
              "1             163\n",
              "dtype: int64"
            ]
          },
          "metadata": {},
          "execution_count": 75
        }
      ]
    },
    {
      "cell_type": "code",
      "source": [
        "df[['campanha4']].value_counts()"
      ],
      "metadata": {
        "id": "aY91QUQJklrz",
        "colab": {
          "base_uri": "https://localhost:8080/"
        },
        "outputId": "c66f8c69-4688-47ea-c02b-bf5299a1c000"
      },
      "execution_count": null,
      "outputs": [
        {
          "output_type": "execute_result",
          "data": {
            "text/plain": [
              "campanha4\n",
              "0            2073\n",
              "1             167\n",
              "dtype: int64"
            ]
          },
          "metadata": {},
          "execution_count": 76
        }
      ]
    },
    {
      "cell_type": "code",
      "source": [
        "df[['campanha5']].value_counts()"
      ],
      "metadata": {
        "id": "vk8wsuUeknWA",
        "colab": {
          "base_uri": "https://localhost:8080/"
        },
        "outputId": "a347e26e-564a-43f0-f270-2dba7eb6f09a"
      },
      "execution_count": null,
      "outputs": [
        {
          "output_type": "execute_result",
          "data": {
            "text/plain": [
              "campanha5\n",
              "0            2077\n",
              "1             163\n",
              "dtype: int64"
            ]
          },
          "metadata": {},
          "execution_count": 77
        }
      ]
    },
    {
      "cell_type": "code",
      "source": [
        "df[['resposta']].value_counts()"
      ],
      "metadata": {
        "id": "SZXQy2VvogxI",
        "colab": {
          "base_uri": "https://localhost:8080/"
        },
        "outputId": "b1ce308f-3d0c-48e3-c436-eedb72f48ace"
      },
      "execution_count": null,
      "outputs": [
        {
          "output_type": "execute_result",
          "data": {
            "text/plain": [
              "resposta\n",
              "0           1906\n",
              "1            334\n",
              "dtype: int64"
            ]
          },
          "metadata": {},
          "execution_count": 78
        }
      ]
    },
    {
      "cell_type": "markdown",
      "source": [
        "Aqui é possível observar que as campanhas 3, 4 e 5 tiveram desempenho mediano, com um resultado muito parecido. A campanha 4 foi ainda mais bem sucedida e deve ser usada como refência entre as as anteriores, porém a campanha 2 teve resultado contraproducente, portanto tb deverá ser avaliada afim de evitar os possiveis erros que a tornaram menos efetiva. \n",
        "Já a Ultima campanha(no campo resposta) foi a que teve o melhor desempenho de todas, a principal refência para observar o que foi feito de diferente que praticamente dobrou os rescultados"
      ],
      "metadata": {
        "id": "8o6I0oSdk990"
      }
    },
    {
      "cell_type": "code",
      "source": [
        "#Verificando a efetividade das campanhas por estado civil\n",
        "df.groupby('estado_civil')['campanha1','campanha2','campanha3','campanha4','campanha5','resposta'].sum().plot.bar(figsize=(15,8),xlabel='ESTADO CIVIL',ylabel='Efetividade das campanhas')"
      ],
      "metadata": {
        "id": "KPURMWVFo9h2",
        "colab": {
          "base_uri": "https://localhost:8080/"
        },
        "outputId": "57c999ba-8cf7-43c5-d08f-65168037343b"
      },
      "execution_count": null,
      "outputs": [
        {
          "output_type": "stream",
          "name": "stderr",
          "text": [
            "<ipython-input-79-cd5171743a03>:2: FutureWarning: Indexing with multiple keys (implicitly converted to a tuple of keys) will be deprecated, use a list instead.\n",
            "  df.groupby('estado_civil')['campanha1','campanha2','campanha3','campanha4','campanha5','resposta'].sum().plot.bar(figsize=(15,8),xlabel='ESTADO CIVIL',ylabel='Efetividade das campanhas')\n"
          ]
        },
        {
          "output_type": "execute_result",
          "data": {
            "text/plain": [
              "<AxesSubplot:xlabel='ESTADO CIVIL', ylabel='Efetividade das campanhas'>"
            ]
          },
          "metadata": {},
          "execution_count": 79
        },
        {
          "output_type": "display_data",
          "data": {
            "text/plain": [
              "<Figure size 1080x576 with 1 Axes>"
            ],
            "image/png": "[encoded data removed]"
          },
          "metadata": {
            "needs_background": "light"
          }
        }
      ]
    },
    {
      "cell_type": "markdown",
      "source": [
        "Aqui se observa o quanto a resposta da ultima campanha foi maior todas as anteriores. Destaca-se o aumento significativo da quantidade de assinaturas de pessoas solteiras, mas ela fou bem em todos os grupos listados"
      ],
      "metadata": {
        "id": "Q4AajfaoqNv_"
      }
    },
    {
      "cell_type": "code",
      "source": [
        "#Verificando a efetividade das campanhas em relação a escolaridade\n",
        "df.groupby('escolaridade')['campanha1','campanha2','campanha3','campanha4','campanha5','resposta'].sum().plot.bar(figsize=(15,5),xlabel='escolaridade',ylabel='Efetividade das campanhas')"
      ],
      "metadata": {
        "id": "aoQHVwriqMx5",
        "colab": {
          "base_uri": "https://localhost:8080/"
        },
        "outputId": "080be0ec-f7c1-4332-f048-6b8f23872061"
      },
      "execution_count": null,
      "outputs": [
        {
          "output_type": "stream",
          "name": "stderr",
          "text": [
            "<ipython-input-80-94d98fbc123d>:2: FutureWarning: Indexing with multiple keys (implicitly converted to a tuple of keys) will be deprecated, use a list instead.\n",
            "  df.groupby('escolaridade')['campanha1','campanha2','campanha3','campanha4','campanha5','resposta'].sum().plot.bar(figsize=(15,5),xlabel='escolaridade',ylabel='Efetividade das campanhas')\n"
          ]
        },
        {
          "output_type": "execute_result",
          "data": {
            "text/plain": [
              "<AxesSubplot:xlabel='escolaridade', ylabel='Efetividade das campanhas'>"
            ]
          },
          "metadata": {},
          "execution_count": 80
        },
        {
          "output_type": "display_data",
          "data": {
            "text/plain": [
              "<Figure size 1080x360 with 1 Axes>"
            ],
            "image/png": "[encoded data removed]"
          },
          "metadata": {
            "needs_background": "light"
          }
        }
      ]
    },
    {
      "cell_type": "markdown",
      "source": [
        "Mais uma vez se destaca o quanto a ultima campanha teve uma ótima resposta em relação às demais"
      ],
      "metadata": {
        "id": "ouhbNeWt5y4m"
      }
    },
    {
      "cell_type": "markdown",
      "source": [
        "#Load - Envio dos dados tratados para o GCP e MongoDB"
      ],
      "metadata": {
        "id": "mbab-TChvgwh"
      }
    },
    {
      "cell_type": "code",
      "source": [
        "#base e colecao\n",
        "db = client['mkt']\n",
        "collection = db['tratados']\n"
      ],
      "metadata": {
        "id": "I62gvpTsvv7a"
      },
      "execution_count": null,
      "outputs": []
    },
    {
      "cell_type": "code",
      "source": [
        "collection.count_documents({})"
      ],
      "metadata": {
        "colab": {
          "base_uri": "https://localhost:8080/"
        },
        "id": "OZPwng1Qq_K8",
        "outputId": "661062e7-6bf7-46bf-be7f-ac92c09050fa"
      },
      "execution_count": null,
      "outputs": [
        {
          "output_type": "execute_result",
          "data": {
            "text/plain": [
              "0"
            ]
          },
          "metadata": {},
          "execution_count": 86
        }
      ]
    },
    {
      "cell_type": "code",
      "source": [
        "#transformando df tratado para dicionádio\n",
        "df_dict_mkt = df.to_dict(\"records\")\n",
        "collection.insert_many(df_dict_mkt)"
      ],
      "metadata": {
        "colab": {
          "base_uri": "https://localhost:8080/"
        },
        "id": "j8BzKqgpp4cv",
        "outputId": "8df56c38-d99f-43ee-8210-5d316e9b469d"
      },
      "execution_count": null,
      "outputs": [
        {
          "output_type": "execute_result",
          "data": {
            "text/plain": [
              "<pymongo.results.InsertManyResult at 0x7fa8af0ff400>"
            ]
          },
          "metadata": {},
          "execution_count": 87
        }
      ]
    },
    {
      "cell_type": "code",
      "source": [
        "#Conferindo se foi enviado\n",
        "collection.count_documents({})"
      ],
      "metadata": {
        "colab": {
          "base_uri": "https://localhost:8080/"
        },
        "id": "5EL2_GmqT86Q",
        "outputId": "59e38bfa-9a21-42e4-b2ad-1428662cecf7"
      },
      "execution_count": null,
      "outputs": [
        {
          "output_type": "execute_result",
          "data": {
            "text/plain": [
              "2240"
            ]
          },
          "metadata": {},
          "execution_count": 88
        }
      ]
    },
    {
      "cell_type": "code",
      "source": [
        "#enviando tratados para o GCP\n",
        "df.to_csv('gs://adriano-lengruber-01/tratados/mkt_tratado.csv',index=False)"
      ],
      "metadata": {
        "id": "xUb-oHoyZ2rL"
      },
      "execution_count": null,
      "outputs": []
    },
    {
      "cell_type": "code",
      "source": [
        "df.shape"
      ],
      "metadata": {
        "colab": {
          "base_uri": "https://localhost:8080/"
        },
        "id": "FlCRhAdiYIlE",
        "outputId": "c24ec303-ad27-4c2a-e9a1-a65832adc4a6"
      },
      "execution_count": null,
      "outputs": [
        {
          "output_type": "execute_result",
          "data": {
            "text/plain": [
              "(2240, 27)"
            ]
          },
          "metadata": {},
          "execution_count": 86
        }
      ]
    },
    {
      "cell_type": "code",
      "source": [],
      "metadata": {
        "id": "uVkfbtF0YhBp"
      },
      "execution_count": null,
      "outputs": []
    },
    {
      "cell_type": "markdown",
      "metadata": {
        "id": "y9JTWtw8kvdt"
      },
      "source": [
        "# Conclusões e Sugestões"
      ]
    },
    {
      "cell_type": "markdown",
      "source": [],
      "metadata": {
        "id": "5XUtHYMcYgam"
      }
    },
    {
      "cell_type": "markdown",
      "source": [
        "Este é o dataframe de uma campanha de marketing voltada para 2240 clientes "
      ],
      "metadata": {
        "id": "d4bMvminNmA5"
      }
    },
    {
      "cell_type": "markdown",
      "metadata": {
        "id": "f5X6Dn_Qk9FH"
      },
      "source": [
        "1 - O número de dias da ultima compra é muito interessante para observamos alvos potenciais para as próximas campanhas afim de trazer esses clientes de volta. os clientes passaram, em média, 59 dias sem fazer compras na loja. \n",
        "\n",
        "Sugestão: para aumentar a média as campanhas devem ser voltadas para clientes que passaram mais tempo sem fazer compras, por exemplo, aos que não compram a mais de 40 dias, ou os que vão menos de 3 vezes em 2 meses.\n",
        "\n",
        "2 - É possível perceber que os maiores gastos são com produtos oriundos de vinículas em todos o grupos analisados, logo em seguida se destacam os produtos carnes e seus derivados e em terceiro lugar, produtos ouro. Carnes e produtos advindos de vinículas são produtos que provavelmente dão muito lucro e cujas ações de marketing tem funcionado bem. \n",
        "\n",
        "Sugestão: seria interessante fazer um trabalho voltado para os demais produtos, principalmente para PRODUTOS OURO(supondo que esses produtos atraiam também mais Assinaturas Gold e cadastros, em geral)\n",
        "\n",
        "3 - No total, foram muito poucas as reclamações dos clientes listados nos ultimos 2 anos considerando que são 2240 clientes e apenas um total de 21 reclamações, que é um número expremamente baixo, menos de 1% dos clientes fizeram uma reclamação. Ou a loja tem um atendimento excelente ou os dados das reclamações não foram todos coletados.\n",
        "\n",
        "Sugestão: informar o canais de reclamação nas notas dos produtos\n",
        "\n",
        "4 - Perfil dos clientes: \n",
        "Um pouco mais da metade dos clientes tem ensino superior completo, a minoria tem apenas ensino básico\n",
        "\n",
        "Pelo menos 64,46% está em um relacionamento com outra pessoa sendo então ainda necessário continuar focando as campanhas para atingir os outros perfis\n",
        "\n",
        "Quanto a existência de menores em duas casas, 71,5% deles tem crianças ou adolescentes em casas e apenas 28,5% não tem nenhum dos grupos. Uma boa estratégia é tentar aumentar a quantidade de assinaturas para pessoas que não tem crianças ou adolescentes\n",
        "\n",
        "5 - Em relação às campanhas observamos que as campanhas 3, 4 e 5 tiveram desempenho mediano, com um resultado muito parecido. A campanha 4 foi ainda mais bem sucedida e deve ser usada como refência entre as as anteriores, porém a campanha 2 teve resultado contraproducente, portanto tb deverá ser avaliada afim de evitar os possiveis erros que a tornaram menos efetiva. Já a Ultima campanha(no campo resposta) foi a que teve o melhor desempenho das 3 sendo essa, a principal refência para obeservao que foi feito de diferença que praticamente dobrou os resultados, destaca-se o aumento significativo da quantidade de assinaturas de pessoas solteiras, mas ela fou bem em todos os grupos listados. \n",
        "\n",
        "A ultima campanha deve continuar sendo aplicada e focada para as pessoas solteiras, que ainda fazem parte de uma minoria dos clientes e tb devem ser feitas mais campanhas voltadas para pessoas sem filhos e/ou dependentes menores de idade, já que esse grupo apresenta apenas 28,5% to todal de consumidores, caso esse seja um dos objetivos da equipe de marketing da loja"
      ]
    }
  ],
  "metadata": {
    "colab": {
      "collapsed_sections": [
        "Bz2_xIkr2_5u",
        "Pty_E5wu3Kd7",
        "tcFGuQq53Un8",
        "BaNaaZG43Z-t",
        "i138h_yQ3u8v",
        "NFhW-yF8u2gM",
        "11Em3J8vBFgD",
        "Ssr3uRCCMghc",
        "wFc7vbo4mY6G",
        "aRnpeacpnbOR",
        "YUMNEVzwhxXN",
        "G2iH3cd8xHWi",
        "dAAUkxiCt0Pq",
        "C4UJTDRtge9s",
        "C8D8pLfwkvUS"
      ],
      "provenance": [],
      "include_colab_link": true
    },
    "kernelspec": {
      "display_name": "Python 3",
      "name": "python3"
    },
    "language_info": {
      "name": "python"
    }
  },
  "nbformat": 4,
  "nbformat_minor": 0
}